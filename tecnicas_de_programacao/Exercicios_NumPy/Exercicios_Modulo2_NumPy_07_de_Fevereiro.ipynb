{
 "cells": [
  {
   "cell_type": "code",
   "execution_count": 1,
   "metadata": {
    "id": "c1yVqPLBqQsR"
   },
   "outputs": [],
   "source": [
    "import numpy as np"
   ]
  },
  {
   "cell_type": "markdown",
   "metadata": {
    "id": "_Lprnwjx0SZS"
   },
   "source": [
    "# Exercício 1\n",
    "### 1) Restaurantes Mais Próximos"
   ]
  },
  {
   "cell_type": "code",
   "execution_count": 2,
   "metadata": {
    "colab": {
     "base_uri": "https://localhost:8080/"
    },
    "id": "K4pGFwIcr9b3",
    "outputId": "ec52b733-61ed-403d-e2b4-1c3b02a0e3cd"
   },
   "outputs": [
    {
     "data": {
      "text/plain": [
       "1"
      ]
     },
     "execution_count": 2,
     "metadata": {},
     "output_type": "execute_result"
    }
   ],
   "source": [
    "# função pedida\n",
    "def restaurantes_mais_proximos(casa, restaurantes):\n",
    "  return 1+np.argmin([np.linalg.norm(np.array(casa)-np.array(rest)) for rest in restaurantes])\n",
    "\n",
    "\n",
    "# exemplos\n",
    "restaurantes = [[1, 3, 5], [2, 4, 0], [3, 3, 3], [1, 6, 6]]\n",
    "joao = [0, 1, 2]\n",
    "\n",
    "# resultado\n",
    "restaurantes_mais_proximos(joao, restaurantes)"
   ]
  },
  {
   "cell_type": "markdown",
   "metadata": {
    "id": "m0p0o0kd0bXB"
   },
   "source": [
    "### 2) Ordenando pelo MMC"
   ]
  },
  {
   "cell_type": "code",
   "execution_count": 3,
   "metadata": {
    "id": "y4qJYE-isGTh"
   },
   "outputs": [],
   "source": [
    "def ordenar_mmc(lista, ref):\n",
    "  # mmc = lambda a,b : [x for x in range(min(a,b), (a*b)+1, min(a,b)) if (x%a == 0 and x%b == 0)][0]\n",
    "  mmcs = [np.lcm(num, ref) for num in lista]\n",
    "  return [lista[i] for i in np.argsort(mmcs)]\n"
   ]
  },
  {
   "cell_type": "markdown",
   "metadata": {
    "id": "LU_ONQpj9mLV"
   },
   "source": [
    "### 3) Normalização ou Z-Score"
   ]
  },
  {
   "cell_type": "code",
   "execution_count": 4,
   "metadata": {
    "colab": {
     "base_uri": "https://localhost:8080/"
    },
    "id": "haY0cOM69mh2",
    "outputId": "8fb3fa92-735f-424e-f7f2-aad1026d7c75"
   },
   "outputs": [
    {
     "name": "stdout",
     "output_type": "stream",
     "text": [
      "True\n",
      "True\n"
     ]
    }
   ],
   "source": [
    "def z_score(data):\n",
    "  media = np.mean(data)\n",
    "  desvio_padrao = np.std(data)\n",
    "  return [np.round((x-media)/desvio_padrao, 4) for x in data]\n",
    "\n",
    "# Exemplo 1\n",
    "lista1 = [4, 6, 7, 8, 9]\n",
    "z_score1 = [-1.6275, -0.465, 0.1162, 0.6975, 1.2787]\n",
    "\n",
    "\n",
    "# Exemplo 2\n",
    "lista2 = [33.1, 12.3, 15.2, 18.4, 77.9, 20.3, 19.5, 33.2, 45.7, 17.6]\n",
    "z_score2 = [0.1997, -0.8994, -0.7461, -0.577, 2.5671, -0.4766, -0.5189, 0.205, 0.8656, -0.6193]\n",
    "\n",
    "\n",
    "print(z_score(lista1) == z_score1)\n",
    "print(z_score(lista2) == z_score2)"
   ]
  },
  {
   "cell_type": "markdown",
   "metadata": {
    "id": "siIPHeR1ABMc"
   },
   "source": [
    "### 4) Escalonamento MinMaxScaler"
   ]
  },
  {
   "cell_type": "code",
   "execution_count": 5,
   "metadata": {
    "id": "0ls0UHaQAEZk"
   },
   "outputs": [],
   "source": [
    "def minmaxscaler(data):\n",
    "  minimo = np.min(data)\n",
    "  maximo = np.max(data)\n",
    "  return [np.round((x-minimo)/(maximo-minimo), 4) for x in data]"
   ]
  },
  {
   "cell_type": "code",
   "execution_count": 6,
   "metadata": {
    "colab": {
     "base_uri": "https://localhost:8080/"
    },
    "id": "7tCiIaDvANFJ",
    "outputId": "9d0584c0-5a21-4bac-efb4-e0cf138175f9"
   },
   "outputs": [
    {
     "name": "stdout",
     "output_type": "stream",
     "text": [
      "[0.317, 0.0, 0.044, 0.093, 1.0, 0.122, 0.11, 0.319, 0.509, 0.081]\n",
      "[0.3171, 0.0, 0.0442, 0.093, 1.0, 0.122, 0.1098, 0.3186, 0.5091, 0.0808]\n"
     ]
    }
   ],
   "source": [
    "# Exemplos\n",
    "# Exemplo 1\n",
    "lista1 = [4, 6, 7, 8, 9]\n",
    "y_score1 = [0.0, 0.4, 0.6, 0.8, 1.0]\n",
    "\n",
    "# Exemplo 2\n",
    "lista2 = [33.1, 12.3, 15.2, 18.4, 77.9, 20.3, 19.5, 33.2, 45.7, 17.6]\n",
    "y_score2 = [0.317, 0.0, 0.044, 0.093, 1.0, 0.122, 0.11, 0.319, 0.509, 0.081] # esse exemplo está arredondado para 3 casas, e não 4\n",
    "\n",
    "\n",
    "print(y_score2)\n",
    "print(minmaxscaler(lista2))"
   ]
  },
  {
   "cell_type": "markdown",
   "metadata": {
    "id": "jQ6kQ7fKBnfs"
   },
   "source": [
    "### 5) Matching entre Vetores\n",
    "\n",
    "No contexto de Machine Learning, um processo bem comum é de comparar respostas entre vetores para entender o quão acertivo foi um determinado modelo. Dado um contexto, desenvolva a função `vector_matching` que verifica posição a posição destes vetores, que valores de zeros e uns foram acertados. Para esta função têm-se como entrada __dois vetores de dimensões iguais__ preenchidos com 0 ou 1 e a saída da função será o percentual de acerto entre os vetores (arredonde o percentual para 1 casa decimal)."
   ]
  },
  {
   "cell_type": "code",
   "execution_count": 7,
   "metadata": {
    "id": "mNv-knJ0Bs-w"
   },
   "outputs": [],
   "source": [
    "def vector_matching(v1, v2):\n",
    "  return np.round(100*np.sum(np.array(v1)==np.array(v2))/np.array(v2).size, 1)"
   ]
  },
  {
   "cell_type": "code",
   "execution_count": 8,
   "metadata": {
    "colab": {
     "base_uri": "https://localhost:8080/"
    },
    "id": "dykG_yG8Bw4P",
    "outputId": "b7431e2b-e2c7-4697-a91e-2fe1090778f8"
   },
   "outputs": [
    {
     "name": "stdout",
     "output_type": "stream",
     "text": [
      "50.0\n",
      "47.1\n"
     ]
    }
   ],
   "source": [
    "#Exemplos\n",
    "#Exemplo 1\n",
    "v1 = [0, 0, 0, 1, 1, 1, 1, 0]\n",
    "v2 = [1, 0, 0, 1, 1, 0, 0, 1]\n",
    "# Resposta = 50.0%\n",
    "print(vector_matching(v1, v2))\n",
    "\n",
    "\n",
    "#Exemplo 2\n",
    "v1 = [1, 1, 0, 0, 1, 1, 1, 1, 1, 1, 0, 1, 1, 0, 0, 0, 1]\n",
    "v2 = [1, 1, 1, 1, 1, 0, 0, 0, 1, 1, 0, 0, 0, 1, 0, 0, 0]\n",
    "# Resposta = 47.1%\n",
    "print(vector_matching(v1, v2))"
   ]
  }
 ],
 "metadata": {
  "colab": {
   "provenance": []
  },
  "kernelspec": {
   "display_name": "venv310",
   "language": "python",
   "name": "venv310"
  },
  "language_info": {
   "codemirror_mode": {
    "name": "ipython",
    "version": 3
   },
   "file_extension": ".py",
   "mimetype": "text/x-python",
   "name": "python",
   "nbconvert_exporter": "python",
   "pygments_lexer": "ipython3",
   "version": "3.10.13"
  }
 },
 "nbformat": 4,
 "nbformat_minor": 4
}
