{
  "nbformat": 4,
  "nbformat_minor": 0,
  "metadata": {
    "colab": {
      "provenance": []
    },
    "kernelspec": {
      "name": "python3",
      "display_name": "Python 3"
    },
    "language_info": {
      "name": "python"
    }
  },
  "cells": [
    {
      "cell_type": "markdown",
      "source": [
        "#1. Importando os dados:\n",
        "\n",
        "Abaixo, usamos pandas para importar os dados, mas logo transformamos o DataFrame em uma lista, para tentar nos adequar ao máximo ao conteúdo já ministrado."
      ],
      "metadata": {
        "id": "OrukPTHRY0Ec"
      }
    },
    {
      "cell_type": "code",
      "execution_count": 1,
      "metadata": {
        "id": "euF-I_mGUmXp"
      },
      "outputs": [],
      "source": [
        "import pandas as pd\n",
        "\n",
        "df = pd.read_json('/content/brasileirao-2019.json')\n",
        "\n",
        "\n",
        "dados = []\n",
        "\n",
        "for i in df.columns:\n",
        "  dados.append(list(df[i]))"
      ]
    },
    {
      "cell_type": "markdown",
      "source": [
        "# 2. Funções usadas:\n",
        "Abaixo, criamos as funções que irão ser usadas ao longo do projeto:"
      ],
      "metadata": {
        "id": "RDhW1roq4cIb"
      }
    },
    {
      "cell_type": "code",
      "source": [
        "def tecnicos(campeonato: list) -> list:\n",
        "  \"\"\"retorna a lista de técnicos que participaram do campeonato\"\"\"\n",
        "  tec = sorted(\n",
        "      list(\n",
        "          set(\n",
        "              [\n",
        "                  tecnico\n",
        "                  for rodada in campeonato\n",
        "                  for partida in rodada\n",
        "                  for tecnico in partida['coach'].values()\n",
        "              ]\n",
        "            )\n",
        "          )\n",
        "      )\n",
        "  return tec\n",
        "\n",
        "\n",
        "\n",
        "def times(campeonato: list) -> list:\n",
        "  \"\"\"retorna uma lista com os times que disputaram o campeonato em ordem alfabética\"\"\"\n",
        "  t = sorted(\n",
        "      list(\n",
        "          set(\n",
        "              [\n",
        "                  time\n",
        "                  for rodada in campeonato\n",
        "                  for partida in rodada\n",
        "                  for time in partida['clubs'].values()\n",
        "              ]\n",
        "            )\n",
        "          )\n",
        "      )\n",
        "  return t\n",
        "\n",
        "\n",
        "\n",
        "def times_por_tecnicos(tecnico: str, campeonato: list) -> dict:\n",
        "  \"\"\"Retorna um dicionário, as chaves são times,\n",
        "  e os valores a quantidade de partidas que o técnico esteve no time\"\"\"\n",
        "  times = [\n",
        "    partida['clubs'][chave]\n",
        "    for rodada in campeonato\n",
        "    for partida in rodada\n",
        "    for chave in ['home', 'away']\n",
        "    if partida['coach'][chave] == tecnico\n",
        "]\n",
        "  return {time:times.count(time) for time in times}\n",
        "\n",
        "\n",
        "\n",
        "def chave_time(time: str, partida: dict) -> str:\n",
        "  \"\"\"Recebe um time e uma partida, e retorna a chave\n",
        "  que indica se o time jogou em casa ou fora de casa\"\"\"\n",
        "  if time not in partida['clubs'].values():\n",
        "    return \"\"\n",
        "  return [ch for ch in partida['clubs'].keys() if partida['clubs'][ch] == time][0]\n",
        "\n",
        "\n",
        "\n",
        "def tecnico(time: str, partida: dict) -> str:\n",
        "  \"\"\"Retorna o ténico do time na partida\"\"\"\n",
        "  return partida['coach'][chave_time(time, partida)]\n",
        "\n",
        "\n",
        "\n",
        "def vencedor(partida: dict) -> str:\n",
        "  \"\"\"recebe uma partida e retorna o time vencedor\"\"\"\n",
        "  if partida['goals']['home'] == partida['goals']['away']:\n",
        "    return \"empate\"\n",
        "  else:\n",
        "    home = int(partida['goals']['home'])\n",
        "    away = int(partida['goals']['away'])\n",
        "    return partida['clubs']['home'] if home > away else partida['clubs']['away']\n",
        "\n",
        "\n",
        "\n",
        "def pontos(time: str, campeonato: list) -> int:\n",
        "  \"\"\"retorna a quantidade de pontos de um time em um campeonato\"\"\"\n",
        "  pontos = 0\n",
        "  partidas = [\n",
        "      partida\n",
        "      for rodada in campeonato\n",
        "      for partida in rodada\n",
        "      if time in partida['clubs'].values()\n",
        "    ]\n",
        "  for partida in partidas:\n",
        "    if vencedor(partida) == time:\n",
        "      pontos += 3\n",
        "    elif vencedor(partida) == 'empate':\n",
        "      pontos += 1\n",
        "  return pontos"
      ],
      "metadata": {
        "id": "gwQAVsXmmc2-"
      },
      "execution_count": 72,
      "outputs": []
    },
    {
      "cell_type": "markdown",
      "source": [
        "# 3. Sei lá\n",
        "\n",
        "Abaixo, criamos uma lista com todos os técnicos que disputaram o campeonato em ordem alfabética:"
      ],
      "metadata": {
        "id": "7KpL8QwI5YCD"
      }
    },
    {
      "cell_type": "code",
      "source": [],
      "metadata": {
        "id": "N36K4kloV2JE",
        "colab": {
          "base_uri": "https://localhost:8080/"
        },
        "outputId": "d9db9b29-e658-4962-e965-cf101232f0eb"
      },
      "execution_count": 74,
      "outputs": [
        {
          "output_type": "execute_result",
          "data": {
            "text/plain": [
              "['Athletico-PR',\n",
              " 'Atlético-MG',\n",
              " 'Avaí',\n",
              " 'Bahia',\n",
              " 'Botafogo',\n",
              " 'CSA',\n",
              " 'Ceará SC',\n",
              " 'Chapecoense',\n",
              " 'Corinthians',\n",
              " 'Cruzeiro',\n",
              " 'Flamengo',\n",
              " 'Fluminense',\n",
              " 'Fortaleza',\n",
              " 'Goiás',\n",
              " 'Grêmio',\n",
              " 'Internacional',\n",
              " 'Palmeiras',\n",
              " 'Santos',\n",
              " 'São Paulo',\n",
              " 'Vasco da Gama']"
            ]
          },
          "metadata": {},
          "execution_count": 74
        }
      ]
    },
    {
      "cell_type": "code",
      "source": [],
      "metadata": {
        "colab": {
          "base_uri": "https://localhost:8080/"
        },
        "id": "1sDkCbL7CtZA",
        "outputId": "434a1365-9978-4b2d-8587-f12678180d1b"
      },
      "execution_count": 71,
      "outputs": [
        {
          "output_type": "execute_result",
          "data": {
            "text/plain": [
              "['A. Batista',\n",
              " 'A. Fucks',\n",
              " 'A. Lopes dos Santos',\n",
              " 'A. Stival',\n",
              " 'A. Valentim do Carmo Neto',\n",
              " 'A. da Silva Braga',\n",
              " 'B. Lazaroni',\n",
              " 'C. A. P. F. Hembert',\n",
              " 'C. dos Santos Oliveira',\n",
              " 'Coelho',\n",
              " 'E. Alves Moreira',\n",
              " 'E. Hartkopp',\n",
              " 'E. Machado Souto',\n",
              " 'E. Spinassé Camillato',\n",
              " 'E. de Barros',\n",
              " 'E. de Souza Barroca',\n",
              " 'F. Carille',\n",
              " 'F. Diniz Silva',\n",
              " 'G. Santos Vasconcelo',\n",
              " 'J. Mannarino',\n",
              " 'J. Pinheiro de Jesus',\n",
              " 'J. Pires de Deus',\n",
              " 'J. Sampaoli Moya',\n",
              " 'L. Scolari',\n",
              " 'L. Venker de Menezes',\n",
              " 'M. Gomes Valadares',\n",
              " 'M. Longo de Araújo',\n",
              " 'M. Montenegro',\n",
              " 'M. Ribeiro Cabo',\n",
              " 'M. Salles',\n",
              " 'M. de Oliveira',\n",
              " 'M. dos Santos Gonçalves',\n",
              " 'N. da Silveira Júnior',\n",
              " 'O. Hellmann',\n",
              " 'O. de Oliveira Filho',\n",
              " 'R. Alves Resende',\n",
              " 'R. Ceni',\n",
              " 'R. Colbachini',\n",
              " 'R. L. Martins Gomes',\n",
              " 'R. Machado Marques',\n",
              " 'R. Marques Santana',\n",
              " 'Renato Gaúcho',\n",
              " 'T. Retzalff Nunes',\n",
              " 'V. Carmo Mancini',\n",
              " 'V. Luxemburgo da Silva']"
            ]
          },
          "metadata": {},
          "execution_count": 71
        }
      ]
    },
    {
      "cell_type": "markdown",
      "source": [
        "Abaixo, criamos uma lista com todos os times que disputaram o campeonato em ordem alfabética."
      ],
      "metadata": {
        "id": "GyL-QcB_Djg3"
      }
    }
  ]
}