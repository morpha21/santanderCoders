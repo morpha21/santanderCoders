{
 "cells": [
  {
   "cell_type": "markdown",
   "metadata": {
    "id": "OrukPTHRY0Ec"
   },
   "source": [
    "# 1. Importando os dados:\n",
    "\n",
    "Abaixo, usamos pandas para importar os dados, mas logo transformamos o DataFrame em uma lista, para tentar nos adequar ao máximo ao conteúdo já ministrado."
   ]
  },
  {
   "cell_type": "code",
   "execution_count": 48,
   "metadata": {
    "id": "euF-I_mGUmXp"
   },
   "outputs": [],
   "source": [
    "import pandas as pd\n",
    "\n",
    "dados = pd.read_json('brasileirao-2019.json')\n",
    "\n",
    "\n",
    "campeonato = []\n",
    "\n",
    "for i in dados.columns:\n",
    "  campeonato.append(list(dados[i]))"
   ]
  },
  {
   "cell_type": "markdown",
   "metadata": {
    "id": "RDhW1roq4cIb"
   },
   "source": [
    "# 2. Funções usadas:\n",
    "Abaixo, criamos as funções que irão ser usadas ao longo do projeto:"
   ]
  },
  {
   "cell_type": "code",
   "execution_count": 42,
   "metadata": {
    "id": "gwQAVsXmmc2-"
   },
   "outputs": [],
   "source": [
    "def tecnicos(campeonato: list) -> list:\n",
    "  \"\"\"retorna a lista de técnicos que participaram do campeonato\"\"\"\n",
    "  tec = sorted(\n",
    "      list(\n",
    "          set(\n",
    "              [\n",
    "                  tecnico\n",
    "                  for rodada in campeonato\n",
    "                  for partida in rodada\n",
    "                  for tecnico in partida['coach'].values()\n",
    "              ]\n",
    "            )\n",
    "          )\n",
    "      )\n",
    "  return tec\n",
    "\n",
    "\n",
    "\n",
    "def times(campeonato: list) -> list:\n",
    "  \"\"\"retorna uma lista com os times que disputaram o campeonato em ordem alfabética\"\"\"\n",
    "  t = sorted(\n",
    "      list(\n",
    "          set(\n",
    "              [\n",
    "                  time\n",
    "                  for rodada in campeonato\n",
    "                  for partida in rodada\n",
    "                  for time in partida['clubs'].values()\n",
    "              ]\n",
    "            )\n",
    "          )\n",
    "      )\n",
    "  return t\n",
    "\n",
    "\n",
    "\n",
    "def times_por_tecnicos(tecnico: str, campeonato: list) -> dict:\n",
    "  \"\"\"Retorna um dicionário, as chaves são times,\n",
    "  e os valores a quantidade de partidas que o técnico esteve no time\"\"\"\n",
    "  times = [\n",
    "    partida['clubs'][chave]\n",
    "    for rodada in campeonato\n",
    "    for partida in rodada\n",
    "    for chave in ['home', 'away']\n",
    "    if partida['coach'][chave] == tecnico\n",
    "]\n",
    "  return {time:times.count(time) for time in times}\n",
    "\n",
    "\n",
    "def chave_tecnico(tecnico: str, partida: dict) -> str:\n",
    "  \"\"\"Recebe um tecnico e uma partida, e retorna a chave\n",
    "  que indica se o tecnico jogou em casa ou fora de casa\"\"\"\n",
    "  if tecnico not in partida['coach'].values():\n",
    "    return \"\"\n",
    "  return [ch for ch in partida['coach'].keys() if partida['coach'][ch] == tecnico][0]\n",
    "\n",
    "\n",
    "\n",
    "def chave_time(time: str, partida: dict) -> str:\n",
    "  \"\"\"Recebe um time e uma partida, e retorna a chave\n",
    "  que indica se o time jogou em casa ou fora de casa\"\"\"\n",
    "  if time not in partida['clubs'].values():\n",
    "    return \"\"\n",
    "  return [ch for ch in partida['clubs'].keys() if partida['clubs'][ch] == time][0]\n",
    "\n",
    "\n",
    "\n",
    "def tecnico_de(time: str, partida: dict) -> str:\n",
    "  \"\"\"Retorna o ténico do time na partida\"\"\"\n",
    "  return \"\" if time not in partida['clubs'].values() else partida['coach'][chave_time(time, partida)]\n",
    "\n",
    "\n",
    "\n",
    "def time_de(tecnico: str, partida: dict) -> str:\n",
    "    \"\"\"retorna o time treinado por um tecnico em uma partida\"\"\"\n",
    "    return \"\" if tecnico not in partida['coach'].values() else partida['clubs'][chave_tecnico(tecnico, partida)]\n",
    "\n",
    "\n",
    "\n",
    "def vencedor(partida: dict) -> str:\n",
    "  \"\"\"recebe uma partida e retorna o time vencedor\"\"\"\n",
    "  if partida['goals']['home'] == partida['goals']['away']:\n",
    "    return \"empate\"\n",
    "  else:\n",
    "    home = int(partida['goals']['home'])\n",
    "    away = int(partida['goals']['away'])\n",
    "    return partida['clubs']['home'] if home > away else partida['clubs']['away']\n",
    "\n",
    "\n",
    "\n",
    "def pontos(time: str, campeonato: list) -> int:\n",
    "  \"\"\"retorna a quantidade de pontos de um time em um campeonato\"\"\"\n",
    "  pontos = 0\n",
    "  partidas = [\n",
    "      partida\n",
    "      for rodada in campeonato\n",
    "      for partida in rodada\n",
    "      if time in partida['clubs'].values()\n",
    "    ]\n",
    "  for partida in partidas:\n",
    "    if vencedor(partida) == time:\n",
    "      pontos += 3\n",
    "    elif vencedor(partida) == 'empate':\n",
    "      pontos += 1\n",
    "  return pontos\n",
    "\n",
    "\n",
    "\n",
    "def pontos_tecnico(tecnico: str, time: str, campeonato: list) -> int:\n",
    "    \"\"\"Retorna a quantidade de pontos que um técnico conseguiu para um dado time em um campeonato\"\"\"\n",
    "    pontos = 0\n",
    "    for rodada in campeonato:\n",
    "        for partida in rodada:\n",
    "            if time in partida['clubs'].values() and tecnico_de(time, partida) == tecnico:\n",
    "                if vencedor(partida) == time:\n",
    "                    pontos += 3\n",
    "                elif vencedor(partida) == 'empate':\n",
    "                    pontos += 1\n",
    "    return pontos"
   ]
  },
  {
   "cell_type": "markdown",
   "metadata": {
    "id": "RDhW1roq4cIb"
   },
   "source": [
    "# 3. Pontos por Partida. \n",
    "\n",
    "Para tentar mensurar a eficiência de um técnico em um time, vamos calcular a razão entre a quantidade de pontos que o time obteve sob o comando do técnico e a quantidade de partidas disputadas pelo time sob o comando do mesmo técnico. "
   ]
  },
  {
   "cell_type": "code",
   "execution_count": 49,
   "metadata": {},
   "outputs": [
    {
     "data": {
      "text/plain": [
       "45"
      ]
     },
     "execution_count": 49,
     "metadata": {},
     "output_type": "execute_result"
    }
   ],
   "source": [
    "pontos_tecnico(\"R. Ceni\", \"Fortaleza\", campeonato)"
   ]
  },
  {
   "cell_type": "code",
   "execution_count": 50,
   "metadata": {},
   "outputs": [
    {
     "data": {
      "text/plain": [
       "{'Fortaleza': 29, 'Cruzeiro': 7}"
      ]
     },
     "execution_count": 50,
     "metadata": {},
     "output_type": "execute_result"
    }
   ],
   "source": [
    "times_por_tecnicos(\"R. Ceni\", campeonato)"
   ]
  },
  {
   "cell_type": "code",
   "execution_count": 57,
   "metadata": {},
   "outputs": [
    {
     "data": {
      "text/plain": [
       "{'A. Batista': {'Ceará SC': 1.0769230769230769, 'Cruzeiro': 0.0},\n",
       " 'A. Fucks': {'CSA': 1.0, 'Ceará SC': 0.6666666666666666},\n",
       " 'A. Lopes dos Santos': {'Palmeiras': 3.0},\n",
       " 'A. Stival': {'São Paulo': 1.6666666666666667},\n",
       " 'A. Valentim do Carmo Neto': {'Avaí': 0.8666666666666667, 'Botafogo': 1.0},\n",
       " 'A. da Silva Braga': {'Flamengo': 1.6666666666666667,\n",
       "  'Cruzeiro': 1.2142857142857142},\n",
       " 'B. Lazaroni': {'Botafogo': 1.5},\n",
       " 'C. A. P. F. Hembert': {'Fortaleza': 0.0},\n",
       " 'C. dos Santos Oliveira': {'Goiás': 1.4166666666666667},\n",
       " 'Coelho': {'Corinthians': 1.375},\n",
       " 'E. Alves Moreira': {'Ceará SC': 1.0454545454545454},\n",
       " 'E. Hartkopp': {'Chapecoense': 0.75},\n",
       " 'E. Machado Souto': {'Avaí': 0.4444444444444444},\n",
       " 'E. Spinassé Camillato': {'Avaí': 0.21428571428571427},\n",
       " 'E. de Barros': {'Athletico-PR': 2.25},\n",
       " 'E. de Souza Barroca': {'Botafogo': 1.173913043478261},\n",
       " 'F. Carille': {'Corinthians': 1.5},\n",
       " 'F. Diniz Silva': {'Fluminense': 0.8, 'São Paulo': 1.5625},\n",
       " 'G. Santos Vasconcelo': {'CSA': 0.0},\n",
       " 'J. Mannarino': {'Fortaleza': 0.7142857142857143,\n",
       "  'Internacional': 1.3636363636363635},\n",
       " 'J. Pinheiro de Jesus': {'Flamengo': 2.5},\n",
       " 'J. Pires de Deus': {'Flamengo': 3.0},\n",
       " 'J. Sampaoli Moya': {'Santos': 1.9473684210526316},\n",
       " 'L. Scolari': {'Palmeiras': 1.875},\n",
       " 'L. Venker de Menezes': {'Cruzeiro': 0.7692307692307693, 'Palmeiras': 1.9},\n",
       " 'M. Gomes Valadares': {'Vasco da Gama': 0.25},\n",
       " 'M. Longo de Araújo': {'São Paulo': 3.0},\n",
       " 'M. Montenegro': {'Fortaleza': 3.0},\n",
       " 'M. Ribeiro Cabo': {'CSA': 0.6666666666666666},\n",
       " 'M. Salles': {'Flamengo': 2.3333333333333335},\n",
       " 'M. de Oliveira': {'Fluminense': 1.588235294117647},\n",
       " 'M. dos Santos Gonçalves': {'Chapecoense': 0.9473684210526315},\n",
       " 'N. da Silveira Júnior': {'Chapecoense': 0.7272727272727273, 'Goiás': 1.4},\n",
       " 'O. Hellmann': {'Internacional': 1.5833333333333333},\n",
       " 'O. de Oliveira Filho': {'Fluminense': 1.1666666666666667},\n",
       " 'R. Alves Resende': {'Cruzeiro': 1.0},\n",
       " 'R. Ceni': {'Fortaleza': 1.5517241379310345, 'Cruzeiro': 1.1428571428571428},\n",
       " 'R. Colbachini': {'Internacional': 1.3333333333333333},\n",
       " 'R. L. Martins Gomes': {'Goiás': 0.0},\n",
       " 'R. Machado Marques': {'Bahia': 1.2894736842105263},\n",
       " 'R. Marques Santana': {'Atlético-MG': 1.24},\n",
       " 'Renato Gaúcho': {'Grêmio': 1.7105263157894737},\n",
       " 'T. Retzalff Nunes': {'Athletico-PR': 1.5333333333333334},\n",
       " 'V. Carmo Mancini': {'Atlético-MG': 1.3076923076923077},\n",
       " 'V. Luxemburgo da Silva': {'Vasco da Gama': 1.411764705882353}}"
      ]
     },
     "execution_count": 57,
     "metadata": {},
     "output_type": "execute_result"
    }
   ],
   "source": [
    "tecs = tecnicos(campeonato)\n",
    "\n",
    "eficiencia = {tec:\n",
    "     {\n",
    "         time:\n",
    "         pontos_tecnico(tec, time, campeonato)/(times_por_tecnicos(tec, campeonato)[time])\n",
    "         for time in times_por_tecnicos(tec, campeonato).keys()\n",
    "     } \n",
    "     for tec in tecs}\n",
    "\n",
    "a"
   ]
  },
  {
   "cell_type": "code",
   "execution_count": 82,
   "metadata": {},
   "outputs": [
    {
     "data": {
      "text/plain": [
       "{'C. A. P. F. Hembert': {'Fortaleza': 1},\n",
       " 'J. Pires de Deus': {'Flamengo': 1},\n",
       " 'M. Longo de Araújo': {'São Paulo': 1},\n",
       " 'M. Montenegro': {'Fortaleza': 1},\n",
       " 'R. Alves Resende': {'Cruzeiro': 1},\n",
       " 'R. L. Martins Gomes': {'Goiás': 1},\n",
       " 'A. Lopes dos Santos': {'Palmeiras': 2},\n",
       " 'B. Lazaroni': {'Botafogo': 2},\n",
       " 'G. Santos Vasconcelo': {'CSA': 3},\n",
       " 'M. Salles': {'Flamengo': 3},\n",
       " 'R. Colbachini': {'Internacional': 3},\n",
       " 'M. Gomes Valadares': {'Vasco da Gama': 4},\n",
       " 'O. de Oliveira Filho': {'Fluminense': 6},\n",
       " 'Coelho': {'Corinthians': 8},\n",
       " 'E. Hartkopp': {'Chapecoense': 8},\n",
       " 'E. de Barros': {'Athletico-PR': 8},\n",
       " 'E. Machado Souto': {'Avaí': 9},\n",
       " 'M. Ribeiro Cabo': {'CSA': 9},\n",
       " 'J. Mannarino': {'Internacional': 11},\n",
       " 'C. dos Santos Oliveira': {'Goiás': 12},\n",
       " 'A. Batista': {'Ceará SC': 13},\n",
       " 'V. Carmo Mancini': {'Atlético-MG': 13},\n",
       " 'A. da Silva Braga': {'Cruzeiro': 14},\n",
       " 'E. Spinassé Camillato': {'Avaí': 14},\n",
       " 'A. Valentim do Carmo Neto': {'Avaí': 15},\n",
       " 'F. Diniz Silva': {'São Paulo': 16},\n",
       " 'L. Scolari': {'Palmeiras': 16},\n",
       " 'M. de Oliveira': {'Fluminense': 17},\n",
       " 'M. dos Santos Gonçalves': {'Chapecoense': 19},\n",
       " 'L. Venker de Menezes': {'Palmeiras': 20},\n",
       " 'A. Stival': {'São Paulo': 21},\n",
       " 'E. Alves Moreira': {'Ceará SC': 22},\n",
       " 'E. de Souza Barroca': {'Botafogo': 23},\n",
       " 'O. Hellmann': {'Internacional': 24},\n",
       " 'N. da Silveira Júnior': {'Goiás': 25},\n",
       " 'R. Marques Santana': {'Atlético-MG': 25},\n",
       " 'A. Fucks': {'CSA': 26},\n",
       " 'J. Pinheiro de Jesus': {'Flamengo': 28},\n",
       " 'R. Ceni': {'Fortaleza': 29},\n",
       " 'F. Carille': {'Corinthians': 30},\n",
       " 'T. Retzalff Nunes': {'Athletico-PR': 30},\n",
       " 'V. Luxemburgo da Silva': {'Vasco da Gama': 34},\n",
       " 'J. Sampaoli Moya': {'Santos': 38},\n",
       " 'R. Machado Marques': {'Bahia': 38},\n",
       " 'Renato Gaúcho': {'Grêmio': 38}}"
      ]
     },
     "execution_count": 82,
     "metadata": {},
     "output_type": "execute_result"
    }
   ],
   "source": [
    "a = {tec:times_por_tecnicos(tec, campeonato) for tec in tecs}\n",
    "\n",
    "b = {tec:{time:a[tec][time] for time in a[tec].keys() if a[tec][time]==max(a[tec].values())} for tec in a.keys()}\n",
    "\n",
    "c = {tec:list(b[tec].items())[0][1] for tec in b.keys()}\n",
    "\n",
    "d = dict(sorted(c.items(), key=lambda item: item[1]))\n",
    "\n",
    "e = {tec:b[tec] for tec in d}\n",
    "\n",
    "\n",
    "# dicionário\n",
    "# chaves sendo técnicos\n",
    "# valores sendo dicionários com times em que mais atuaram no campeonato e longevidade \n",
    "# ordenados por longevidade\n",
    "e"
   ]
  }
 ],
 "metadata": {
  "colab": {
   "provenance": []
  },
  "kernelspec": {
   "display_name": "myenv",
   "language": "python",
   "name": "myenv"
  },
  "language_info": {
   "codemirror_mode": {
    "name": "ipython",
    "version": 3
   },
   "file_extension": ".py",
   "mimetype": "text/x-python",
   "name": "python",
   "nbconvert_exporter": "python",
   "pygments_lexer": "ipython3",
   "version": "3.10.13"
  }
 },
 "nbformat": 4,
 "nbformat_minor": 4
}
