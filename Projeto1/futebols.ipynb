{
 "cells": [
  {
   "cell_type": "markdown",
   "metadata": {
    "id": "OrukPTHRY0Ec"
   },
   "source": [
    "# 1. Importando os dados:\n",
    "\n",
    "Abaixo, usamos pandas para importar os dados, mas logo transformamos o DataFrame em uma lista, para tentar nos adequar ao máximo ao conteúdo já ministrado."
   ]
  },
  {
   "cell_type": "code",
   "execution_count": 40,
   "metadata": {
    "id": "euF-I_mGUmXp"
   },
   "outputs": [],
   "source": [
    "import pandas as pd\n",
    "\n",
    "dados = pd.read_json('brasileirao-2019.json')\n",
    "\n",
    "\n",
    "campeonato = []\n",
    "\n",
    "for i in dados.columns:\n",
    "  campeonato.append(list(dados[i]))"
   ]
  },
  {
   "cell_type": "markdown",
   "metadata": {
    "id": "RDhW1roq4cIb"
   },
   "source": [
    "# 2. Funções usadas:\n",
    "Abaixo, criamos as funções que irão ser usadas ao longo do projeto:"
   ]
  },
  {
   "cell_type": "code",
   "execution_count": 27,
   "metadata": {
    "id": "gwQAVsXmmc2-"
   },
   "outputs": [],
   "source": [
    "def tecnicos(campeonato: list) -> list:\n",
    "  \"\"\"retorna a lista de técnicos que participaram do campeonato\"\"\"\n",
    "  tec = sorted(\n",
    "      list(\n",
    "          set(\n",
    "              [\n",
    "                  tecnico\n",
    "                  for rodada in campeonato\n",
    "                  for partida in rodada\n",
    "                  for tecnico in partida['coach'].values()\n",
    "              ]\n",
    "            )\n",
    "          )\n",
    "      )\n",
    "  return tec\n",
    "\n",
    "\n",
    "\n",
    "def times(campeonato: list) -> list:\n",
    "  \"\"\"retorna uma lista com os times que disputaram o campeonato em ordem alfabética\"\"\"\n",
    "  t = sorted(\n",
    "      list(\n",
    "          set(\n",
    "              [\n",
    "                  time\n",
    "                  for rodada in campeonato\n",
    "                  for partida in rodada\n",
    "                  for time in partida['clubs'].values()\n",
    "              ]\n",
    "            )\n",
    "          )\n",
    "      )\n",
    "  return t\n",
    "\n",
    "\n",
    "\n",
    "def times_por_tecnicos(tecnico: str, campeonato: list) -> dict:\n",
    "  \"\"\"Retorna um dicionário, as chaves são times,\n",
    "  e os valores a quantidade de partidas que o técnico esteve no time\"\"\"\n",
    "  times = [\n",
    "    partida['clubs'][chave]\n",
    "    for rodada in campeonato\n",
    "    for partida in rodada\n",
    "    for chave in ['home', 'away']\n",
    "    if partida['coach'][chave] == tecnico\n",
    "]\n",
    "  return {time:times.count(time) for time in times}\n",
    "\n",
    "\n",
    "def chave_tecnico(tecnico: str, partida: dict) -> str:\n",
    "  \"\"\"Recebe um tecnico e uma partida, e retorna a chave\n",
    "  que indica se o tecnico jogou em casa ou fora de casa\"\"\"\n",
    "  if tecnico not in partida['coach'].values():\n",
    "    return \"\"\n",
    "  return [ch for ch in partida['coach'].keys() if partida['coach'][ch] == tecnico][0]\n",
    "\n",
    "\n",
    "\n",
    "def chave_time(time: str, partida: dict) -> str:\n",
    "  \"\"\"Recebe um time e uma partida, e retorna a chave\n",
    "  que indica se o time jogou em casa ou fora de casa\"\"\"\n",
    "  if time not in partida['clubs'].values():\n",
    "    return \"\"\n",
    "  return [ch for ch in partida['clubs'].keys() if partida['clubs'][ch] == time][0]\n",
    "\n",
    "\n",
    "\n",
    "def tecnico_de(time: str, partida: dict) -> str:\n",
    "  \"\"\"Retorna o ténico do time na partida\"\"\"\n",
    "  return \"\" if time not in partida['clubs'].values() else partida['coach'][chave_time(time, partida)]\n",
    "\n",
    "\n",
    "\n",
    "def time_de(tecnico: str, partida: dict) -> str:\n",
    "    \"\"\"retorna o time treinado por um tecnico em uma partida\"\"\"\n",
    "    return \"\" if tecnico not in partida['coach'].values() else partida['clubs'][chave_tecnico(tecnico, partida)]\n",
    "\n",
    "\n",
    "\n",
    "def vencedor(partida: dict) -> str:\n",
    "  \"\"\"recebe uma partida e retorna o time vencedor\"\"\"\n",
    "  if partida['goals']['home'] == partida['goals']['away']:\n",
    "    return \"empate\"\n",
    "  else:\n",
    "    home = int(partida['goals']['home'])\n",
    "    away = int(partida['goals']['away'])\n",
    "    return partida['clubs']['home'] if home > away else partida['clubs']['away']\n",
    "\n",
    "\n",
    "\n",
    "def pontos(time: str, campeonato: list) -> int:\n",
    "  \"\"\"retorna a quantidade de pontos de um time em um campeonato\"\"\"\n",
    "  pontos = 0\n",
    "  partidas = [\n",
    "      partida\n",
    "      for rodada in campeonato\n",
    "      for partida in rodada\n",
    "      if time in partida['clubs'].values()\n",
    "    ]\n",
    "  for partida in partidas:\n",
    "    if vencedor(partida) == time:\n",
    "      pontos += 3\n",
    "    elif vencedor(partida) == 'empate':\n",
    "      pontos += 1\n",
    "  return pontos\n",
    "\n",
    "\n",
    "\n",
    "def pontos_tecnico(tecnico: str, time: str, campeonato: list) -> int:\n",
    "    \"\"\"Retorna a quantidade de pontos que um técnico conseguiu para um dado time em um campeonato\"\"\"\n",
    "    pontos = 0\n",
    "    for rodada in campeonato:\n",
    "        for partida in rodada:\n",
    "            if time in partida['clubs'].values() and tecnico_de(time, partida) == tecnico:\n",
    "                if vencedor(partida) == time:\n",
    "                    pontos += 3\n",
    "                elif vencedor(partida) == 'empate':\n",
    "                    pontos += 1\n",
    "    return pontos"
   ]
  },
  {
   "cell_type": "markdown",
   "metadata": {
    "id": "7KpL8QwI5YCD"
   },
   "source": [
    "# 3. Sei lá\n"
   ]
  },
  {
   "cell_type": "code",
   "execution_count": 32,
   "metadata": {},
   "outputs": [],
   "source": []
  },
  {
   "cell_type": "code",
   "execution_count": 35,
   "metadata": {},
   "outputs": [
    {
     "data": {
      "text/plain": [
       "70"
      ]
     },
     "execution_count": 35,
     "metadata": {},
     "output_type": "execute_result"
    }
   ],
   "source": []
  }
 ],
 "metadata": {
  "colab": {
   "provenance": []
  },
  "kernelspec": {
   "display_name": "myenv",
   "language": "python",
   "name": "myenv"
  },
  "language_info": {
   "codemirror_mode": {
    "name": "ipython",
    "version": 3
   },
   "file_extension": ".py",
   "mimetype": "text/x-python",
   "name": "python",
   "nbconvert_exporter": "python",
   "pygments_lexer": "ipython3",
   "version": "3.10.13"
  }
 },
 "nbformat": 4,
 "nbformat_minor": 4
}
