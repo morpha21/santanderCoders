{
  "nbformat": 4,
  "nbformat_minor": 0,
  "metadata": {
    "colab": {
      "provenance": []
    },
    "kernelspec": {
      "name": "python3",
      "display_name": "Python 3"
    },
    "language_info": {
      "name": "python"
    }
  },
  "cells": [
    {
      "cell_type": "code",
      "execution_count": 1,
      "metadata": {
        "id": "c1yVqPLBqQsR"
      },
      "outputs": [],
      "source": [
        "import numpy as np"
      ]
    },
    {
      "cell_type": "markdown",
      "source": [
        "# Exercício 1\n",
        "### 1) Restaurantes Mais Próximos"
      ],
      "metadata": {
        "id": "_Lprnwjx0SZS"
      }
    },
    {
      "cell_type": "code",
      "source": [
        "# função pedida\n",
        "def restaurantes_mais_proximos(casa, restaurantes):\n",
        "  return 1+np.argmin([np.linalg.norm(np.array(casa)-np.array(rest)) for rest in restaurantes])\n",
        "\n",
        "\n",
        "# exemplos\n",
        "restaurantes = [[1, 3, 5], [2, 4, 0], [3, 3, 3], [1, 6, 6]]\n",
        "joao = [0, 1, 2]\n",
        "\n",
        "# resultado\n",
        "restaurantes_mais_proximos(joao, restaurantes)"
      ],
      "metadata": {
        "colab": {
          "base_uri": "https://localhost:8080/"
        },
        "id": "K4pGFwIcr9b3",
        "outputId": "ebfba211-beb5-4b8c-b165-53939bdf943a"
      },
      "execution_count": 2,
      "outputs": [
        {
          "output_type": "execute_result",
          "data": {
            "text/plain": [
              "1"
            ]
          },
          "metadata": {},
          "execution_count": 2
        }
      ]
    },
    {
      "cell_type": "markdown",
      "source": [
        "### 2) Ordenando pelo MMC"
      ],
      "metadata": {
        "id": "m0p0o0kd0bXB"
      }
    },
    {
      "cell_type": "code",
      "source": [
        "def ordenar_mmc(lista, ref):\n",
        "  # mmc = lambda a,b : [x for x in range(min(a,b), (a*b)+1, min(a,b)) if (x%a == 0 and x%b == 0)][0]\n",
        "  mmcs = [np.lcm(num, ref) for num in lista]\n",
        "  return [lista[i] for i in np.argsort(mmcs)]\n"
      ],
      "metadata": {
        "id": "y4qJYE-isGTh"
      },
      "execution_count": 3,
      "outputs": []
    },
    {
      "cell_type": "code",
      "source": [
        "lista = [6, 15, 12]\n",
        "ref = 15\n",
        "\n",
        "ordenar_mmc(lista, ref)"
      ],
      "metadata": {
        "colab": {
          "base_uri": "https://localhost:8080/"
        },
        "id": "uN2QmL045bzY",
        "outputId": "b1b4578b-fea9-4c8d-db2f-406fc9e390b7"
      },
      "execution_count": 4,
      "outputs": [
        {
          "output_type": "execute_result",
          "data": {
            "text/plain": [
              "[15, 6, 12]"
            ]
          },
          "metadata": {},
          "execution_count": 4
        }
      ]
    },
    {
      "cell_type": "markdown",
      "source": [
        "### 3) Normalização ou Z-Score"
      ],
      "metadata": {
        "id": "LU_ONQpj9mLV"
      }
    },
    {
      "cell_type": "code",
      "source": [
        "def z_score(data):\n",
        "  media = np.mean(data)\n",
        "  desvio_padrao = np.std(data)\n",
        "  return [np.round((x-media)/desvio_padrao, 4) for x in data]\n",
        "\n",
        "# Exemplo 1\n",
        "lista1 = [4, 6, 7, 8, 9]\n",
        "z_score1 = [-1.6275, -0.465, 0.1162, 0.6975, 1.2787]\n",
        "\n",
        "\n",
        "# Exemplo 2\n",
        "lista2 = [33.1, 12.3, 15.2, 18.4, 77.9, 20.3, 19.5, 33.2, 45.7, 17.6]\n",
        "z_score2 = [0.1997, -0.8994, -0.7461, -0.577, 2.5671, -0.4766, -0.5189, 0.205, 0.8656, -0.6193]\n",
        "\n",
        "\n",
        "print(z_score(lista1) == z_score1)\n",
        "print(z_score(lista2) == z_score2)"
      ],
      "metadata": {
        "colab": {
          "base_uri": "https://localhost:8080/"
        },
        "id": "haY0cOM69mh2",
        "outputId": "4a001f1d-937b-4a30-a250-75eb9d94c877"
      },
      "execution_count": 5,
      "outputs": [
        {
          "output_type": "stream",
          "name": "stdout",
          "text": [
            "True\n",
            "True\n"
          ]
        }
      ]
    },
    {
      "cell_type": "markdown",
      "source": [
        "### 4) Escalonamento MinMaxScaler"
      ],
      "metadata": {
        "id": "siIPHeR1ABMc"
      }
    },
    {
      "cell_type": "code",
      "source": [
        "def minmaxscaler(data):\n",
        "  minimo = np.min(data)\n",
        "  maximo = np.max(data)\n",
        "  return [np.round((x-minimo)/(maximo-minimo), 4) for x in data]"
      ],
      "metadata": {
        "id": "0ls0UHaQAEZk"
      },
      "execution_count": 6,
      "outputs": []
    },
    {
      "cell_type": "code",
      "source": [
        "# Exemplos\n",
        "# Exemplo 1\n",
        "lista1 = [4, 6, 7, 8, 9]\n",
        "y_score1 = [0.0, 0.4, 0.6, 0.8, 1.0]\n",
        "\n",
        "# Exemplo 2\n",
        "lista2 = [33.1, 12.3, 15.2, 18.4, 77.9, 20.3, 19.5, 33.2, 45.7, 17.6]\n",
        "y_score2 = [0.317, 0.0, 0.044, 0.093, 1.0, 0.122, 0.11, 0.319, 0.509, 0.081] # esse exemplo está arredondado para 3 casas, e não 4\n",
        "\n",
        "\n",
        "print(y_score2)\n",
        "print(minmaxscaler(lista2))"
      ],
      "metadata": {
        "colab": {
          "base_uri": "https://localhost:8080/"
        },
        "id": "7tCiIaDvANFJ",
        "outputId": "8bb05c3b-4697-465a-e1d0-dfe389545ec9"
      },
      "execution_count": 7,
      "outputs": [
        {
          "output_type": "stream",
          "name": "stdout",
          "text": [
            "[0.317, 0.0, 0.044, 0.093, 1.0, 0.122, 0.11, 0.319, 0.509, 0.081]\n",
            "[0.3171, 0.0, 0.0442, 0.093, 1.0, 0.122, 0.1098, 0.3186, 0.5091, 0.0808]\n"
          ]
        }
      ]
    },
    {
      "cell_type": "markdown",
      "source": [
        "### 5) Matching entre Vetores\n",
        "\n",
        "No contexto de Machine Learning, um processo bem comum é de comparar respostas entre vetores para entender o quão acertivo foi um determinado modelo. Dado um contexto, desenvolva a função `vector_matching` que verifica posição a posição destes vetores, que valores de zeros e uns foram acertados. Para esta função têm-se como entrada __dois vetores de dimensões iguais__ preenchidos com 0 ou 1 e a saída da função será o percentual de acerto entre os vetores (arredonde o percentual para 1 casa decimal)."
      ],
      "metadata": {
        "id": "jQ6kQ7fKBnfs"
      }
    },
    {
      "cell_type": "code",
      "source": [
        "def vector_matching(v1, v2):\n",
        "  return np.round(100*np.sum(np.array(v1)==np.array(v2))/np.array(v2).size, 1)"
      ],
      "metadata": {
        "id": "mNv-knJ0Bs-w"
      },
      "execution_count": 8,
      "outputs": []
    },
    {
      "cell_type": "code",
      "source": [
        "#Exemplos\n",
        "#Exemplo 1\n",
        "v1 = [0, 0, 0, 1, 1, 1, 1, 0]\n",
        "v2 = [1, 0, 0, 1, 1, 0, 0, 1]\n",
        "# Resposta = 50.0%\n",
        "print(vector_matching(v1, v2))\n",
        "\n",
        "\n",
        "#Exemplo 2\n",
        "v1 = [1, 1, 0, 0, 1, 1, 1, 1, 1, 1, 0, 1, 1, 0, 0, 0, 1]\n",
        "v2 = [1, 1, 1, 1, 1, 0, 0, 0, 1, 1, 0, 0, 0, 1, 0, 0, 0]\n",
        "# Resposta = 47.1%\n",
        "print(vector_matching(v1, v2))"
      ],
      "metadata": {
        "colab": {
          "base_uri": "https://localhost:8080/"
        },
        "id": "dykG_yG8Bw4P",
        "outputId": "4935be7b-3326-49ba-e7eb-5071d99881fb"
      },
      "execution_count": 9,
      "outputs": [
        {
          "output_type": "stream",
          "name": "stdout",
          "text": [
            "50.0\n",
            "47.1\n"
          ]
        }
      ]
    }
  ]
}