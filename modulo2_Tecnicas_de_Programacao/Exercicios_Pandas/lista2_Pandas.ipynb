{
 "cells": [
  {
   "cell_type": "markdown",
   "id": "ba2a74d6",
   "metadata": {},
   "source": [
    "# Lista 2 - Exercícios Pandas\n",
    "\n",
    "_Descrição dos Exercícios:_ Serão 5 exercícios onde o objetivo será conseguir os dados de datasets conhecidos do Kaggle e responder os tópicos propostos para cada um deles."
   ]
  },
  {
   "cell_type": "code",
   "execution_count": 1,
   "id": "f6b2e8ca-22b7-434c-a05a-5a6cb8ebe7ba",
   "metadata": {},
   "outputs": [],
   "source": [
    "import pandas as pd"
   ]
  },
  {
   "cell_type": "markdown",
   "id": "54a5384b-c1c5-40a8-8982-2273dc24db3a",
   "metadata": {},
   "source": [
    "## __Exercício 1:__ Análise de Dados do Airbnb em Nova York\n",
    "\n",
    "__Dataset:__  Disponível no Kaggle como _New York City Airbnb Open Data_."
   ]
  },
  {
   "cell_type": "code",
   "execution_count": 2,
   "id": "da3ab5e9-2268-418f-8df5-47893cf1b594",
   "metadata": {},
   "outputs": [],
   "source": [
    "df = pd.read_csv(\"AB_NYC_2019.csv\")"
   ]
  },
  {
   "cell_type": "markdown",
   "id": "b5aba9f8-debc-4bad-876a-e6a2294c8f00",
   "metadata": {},
   "source": [
    "### __item 1__\n",
    "Exiba as primeiras 5 linhas do dataset para entender a estrutura dos dados."
   ]
  },
  {
   "cell_type": "code",
   "execution_count": 3,
   "id": "c9561576",
   "metadata": {},
   "outputs": [
    {
     "data": {
      "text/html": [
       "<div>\n",
       "<style scoped>\n",
       "    .dataframe tbody tr th:only-of-type {\n",
       "        vertical-align: middle;\n",
       "    }\n",
       "\n",
       "    .dataframe tbody tr th {\n",
       "        vertical-align: top;\n",
       "    }\n",
       "\n",
       "    .dataframe thead th {\n",
       "        text-align: right;\n",
       "    }\n",
       "</style>\n",
       "<table border=\"1\" class=\"dataframe\">\n",
       "  <thead>\n",
       "    <tr style=\"text-align: right;\">\n",
       "      <th></th>\n",
       "      <th>id</th>\n",
       "      <th>name</th>\n",
       "      <th>host_id</th>\n",
       "      <th>host_name</th>\n",
       "      <th>neighbourhood_group</th>\n",
       "      <th>neighbourhood</th>\n",
       "      <th>latitude</th>\n",
       "      <th>longitude</th>\n",
       "      <th>room_type</th>\n",
       "      <th>price</th>\n",
       "      <th>minimum_nights</th>\n",
       "      <th>number_of_reviews</th>\n",
       "      <th>last_review</th>\n",
       "      <th>reviews_per_month</th>\n",
       "      <th>calculated_host_listings_count</th>\n",
       "      <th>availability_365</th>\n",
       "    </tr>\n",
       "  </thead>\n",
       "  <tbody>\n",
       "    <tr>\n",
       "      <th>0</th>\n",
       "      <td>2539</td>\n",
       "      <td>Clean &amp; quiet apt home by the park</td>\n",
       "      <td>2787</td>\n",
       "      <td>John</td>\n",
       "      <td>Brooklyn</td>\n",
       "      <td>Kensington</td>\n",
       "      <td>40.64749</td>\n",
       "      <td>-73.97237</td>\n",
       "      <td>Private room</td>\n",
       "      <td>149</td>\n",
       "      <td>1</td>\n",
       "      <td>9</td>\n",
       "      <td>2018-10-19</td>\n",
       "      <td>0.21</td>\n",
       "      <td>6</td>\n",
       "      <td>365</td>\n",
       "    </tr>\n",
       "    <tr>\n",
       "      <th>1</th>\n",
       "      <td>2595</td>\n",
       "      <td>Skylit Midtown Castle</td>\n",
       "      <td>2845</td>\n",
       "      <td>Jennifer</td>\n",
       "      <td>Manhattan</td>\n",
       "      <td>Midtown</td>\n",
       "      <td>40.75362</td>\n",
       "      <td>-73.98377</td>\n",
       "      <td>Entire home/apt</td>\n",
       "      <td>225</td>\n",
       "      <td>1</td>\n",
       "      <td>45</td>\n",
       "      <td>2019-05-21</td>\n",
       "      <td>0.38</td>\n",
       "      <td>2</td>\n",
       "      <td>355</td>\n",
       "    </tr>\n",
       "    <tr>\n",
       "      <th>2</th>\n",
       "      <td>3647</td>\n",
       "      <td>THE VILLAGE OF HARLEM....NEW YORK !</td>\n",
       "      <td>4632</td>\n",
       "      <td>Elisabeth</td>\n",
       "      <td>Manhattan</td>\n",
       "      <td>Harlem</td>\n",
       "      <td>40.80902</td>\n",
       "      <td>-73.94190</td>\n",
       "      <td>Private room</td>\n",
       "      <td>150</td>\n",
       "      <td>3</td>\n",
       "      <td>0</td>\n",
       "      <td>NaN</td>\n",
       "      <td>NaN</td>\n",
       "      <td>1</td>\n",
       "      <td>365</td>\n",
       "    </tr>\n",
       "    <tr>\n",
       "      <th>3</th>\n",
       "      <td>3831</td>\n",
       "      <td>Cozy Entire Floor of Brownstone</td>\n",
       "      <td>4869</td>\n",
       "      <td>LisaRoxanne</td>\n",
       "      <td>Brooklyn</td>\n",
       "      <td>Clinton Hill</td>\n",
       "      <td>40.68514</td>\n",
       "      <td>-73.95976</td>\n",
       "      <td>Entire home/apt</td>\n",
       "      <td>89</td>\n",
       "      <td>1</td>\n",
       "      <td>270</td>\n",
       "      <td>2019-07-05</td>\n",
       "      <td>4.64</td>\n",
       "      <td>1</td>\n",
       "      <td>194</td>\n",
       "    </tr>\n",
       "    <tr>\n",
       "      <th>4</th>\n",
       "      <td>5022</td>\n",
       "      <td>Entire Apt: Spacious Studio/Loft by central park</td>\n",
       "      <td>7192</td>\n",
       "      <td>Laura</td>\n",
       "      <td>Manhattan</td>\n",
       "      <td>East Harlem</td>\n",
       "      <td>40.79851</td>\n",
       "      <td>-73.94399</td>\n",
       "      <td>Entire home/apt</td>\n",
       "      <td>80</td>\n",
       "      <td>10</td>\n",
       "      <td>9</td>\n",
       "      <td>2018-11-19</td>\n",
       "      <td>0.10</td>\n",
       "      <td>1</td>\n",
       "      <td>0</td>\n",
       "    </tr>\n",
       "  </tbody>\n",
       "</table>\n",
       "</div>"
      ],
      "text/plain": [
       "     id                                              name  host_id  \\\n",
       "0  2539                Clean & quiet apt home by the park     2787   \n",
       "1  2595                             Skylit Midtown Castle     2845   \n",
       "2  3647               THE VILLAGE OF HARLEM....NEW YORK !     4632   \n",
       "3  3831                   Cozy Entire Floor of Brownstone     4869   \n",
       "4  5022  Entire Apt: Spacious Studio/Loft by central park     7192   \n",
       "\n",
       "     host_name neighbourhood_group neighbourhood  latitude  longitude  \\\n",
       "0         John            Brooklyn    Kensington  40.64749  -73.97237   \n",
       "1     Jennifer           Manhattan       Midtown  40.75362  -73.98377   \n",
       "2    Elisabeth           Manhattan        Harlem  40.80902  -73.94190   \n",
       "3  LisaRoxanne            Brooklyn  Clinton Hill  40.68514  -73.95976   \n",
       "4        Laura           Manhattan   East Harlem  40.79851  -73.94399   \n",
       "\n",
       "         room_type  price  minimum_nights  number_of_reviews last_review  \\\n",
       "0     Private room    149               1                  9  2018-10-19   \n",
       "1  Entire home/apt    225               1                 45  2019-05-21   \n",
       "2     Private room    150               3                  0         NaN   \n",
       "3  Entire home/apt     89               1                270  2019-07-05   \n",
       "4  Entire home/apt     80              10                  9  2018-11-19   \n",
       "\n",
       "   reviews_per_month  calculated_host_listings_count  availability_365  \n",
       "0               0.21                               6               365  \n",
       "1               0.38                               2               355  \n",
       "2                NaN                               1               365  \n",
       "3               4.64                               1               194  \n",
       "4               0.10                               1                 0  "
      ]
     },
     "execution_count": 3,
     "metadata": {},
     "output_type": "execute_result"
    }
   ],
   "source": [
    "df.head(5)"
   ]
  },
  {
   "cell_type": "markdown",
   "id": "c47b81e5-c9a9-4f00-afc3-02f78ed6a4a5",
   "metadata": {},
   "source": [
    "### __item 2__\n",
    "Calcule o preço médio de aluguel por bairro (neighbourhood_group)."
   ]
  },
  {
   "cell_type": "code",
   "execution_count": 4,
   "id": "9025dbdc-d512-45f1-9221-f6cf2ce672e3",
   "metadata": {},
   "outputs": [
    {
     "data": {
      "text/plain": [
       "neighbourhood_group\n",
       "Bronx             87.496792\n",
       "Brooklyn         124.383207\n",
       "Manhattan        196.875814\n",
       "Queens            99.517649\n",
       "Staten Island    114.812332\n",
       "Name: price, dtype: float64"
      ]
     },
     "execution_count": 4,
     "metadata": {},
     "output_type": "execute_result"
    }
   ],
   "source": [
    "df.groupby(by='neighbourhood_group')['price'].mean()"
   ]
  },
  {
   "cell_type": "markdown",
   "id": "46b3e838",
   "metadata": {},
   "source": [
    "### __item 3__\n",
    "Encontre o número de opções de hospedagem disponíveis em cada tipo de quarto (room_type).\n",
    "\n"
   ]
  },
  {
   "cell_type": "code",
   "execution_count": 5,
   "id": "90e9bbcb-5aa3-41cc-9571-aa554ef61b40",
   "metadata": {},
   "outputs": [
    {
     "data": {
      "text/plain": [
       "room_type\n",
       "Entire home/apt    25409\n",
       "Private room       22326\n",
       "Shared room         1160\n",
       "Name: count, dtype: int64"
      ]
     },
     "execution_count": 5,
     "metadata": {},
     "output_type": "execute_result"
    }
   ],
   "source": [
    "df['room_type'].value_counts()"
   ]
  },
  {
   "cell_type": "markdown",
   "id": "953a5772-d090-48f9-ba6a-49894748319f",
   "metadata": {},
   "source": [
    "### __item 4__\n",
    "Determine os 10 bairros com a maior quantidade de hospedagens listadas."
   ]
  },
  {
   "cell_type": "code",
   "execution_count": 6,
   "id": "2c23d440",
   "metadata": {},
   "outputs": [
    {
     "data": {
      "text/plain": [
       "neighbourhood\n",
       "Williamsburg          3920\n",
       "Bedford-Stuyvesant    3714\n",
       "Harlem                2658\n",
       "Bushwick              2465\n",
       "Upper West Side       1971\n",
       "Hell's Kitchen        1958\n",
       "East Village          1853\n",
       "Upper East Side       1798\n",
       "Crown Heights         1564\n",
       "Midtown               1545\n",
       "Name: count, dtype: int64"
      ]
     },
     "execution_count": 6,
     "metadata": {},
     "output_type": "execute_result"
    }
   ],
   "source": [
    "df['neighbourhood'].value_counts().sort_values(ascending=False)[:10]"
   ]
  },
  {
   "cell_type": "markdown",
   "id": "9213d3a2",
   "metadata": {},
   "source": [
    "## __Exercício 2:__ Explorando Dados de Vendas de Imóveis\n",
    "    \n",
    "__Dataset:__ Disponível no Kaggle como _House Prices: Advanced Regression Techniques._"
   ]
  },
  {
   "cell_type": "code",
   "execution_count": 7,
   "id": "b651f92d",
   "metadata": {},
   "outputs": [],
   "source": [
    "df = pd.concat([\n",
    "    pd.read_csv(\"train.csv\"),\n",
    "    pd.read_csv(\"test.csv\")\n",
    "])"
   ]
  },
  {
   "cell_type": "markdown",
   "id": "be4974d5-9d72-434c-ad6a-af4c266c4a69",
   "metadata": {},
   "source": [
    "### __item 1__\n",
    "Exiba o número total de linhas e colunas no DataFrame."
   ]
  },
  {
   "cell_type": "code",
   "execution_count": 8,
   "id": "56381856-80d1-4806-b1c6-f45ff413a9f8",
   "metadata": {},
   "outputs": [
    {
     "data": {
      "text/plain": [
       "(2919, 81)"
      ]
     },
     "execution_count": 8,
     "metadata": {},
     "output_type": "execute_result"
    }
   ],
   "source": [
    "df.shape"
   ]
  },
  {
   "cell_type": "markdown",
   "id": "ae4499c3-9d30-4617-8bc0-f44b7ec72d49",
   "metadata": {},
   "source": [
    "### __item 2__\n",
    "Encontre o preço médio dos imóveis."
   ]
  },
  {
   "cell_type": "code",
   "execution_count": 9,
   "id": "62ea1161-8aca-494b-87ab-b615fff06834",
   "metadata": {},
   "outputs": [
    {
     "data": {
      "text/plain": [
       "180921.19589041095"
      ]
     },
     "execution_count": 9,
     "metadata": {},
     "output_type": "execute_result"
    }
   ],
   "source": [
    "df['SalePrice'].mean()"
   ]
  },
  {
   "cell_type": "markdown",
   "id": "05ef45b2-8966-4183-81f0-4fe2e156a144",
   "metadata": {},
   "source": [
    "### __item 3__\n",
    "Liste as 5 áreas de lote (LotArea) mais grandes."
   ]
  },
  {
   "cell_type": "code",
   "execution_count": 10,
   "id": "c41fbf6a-b947-4ca1-9c03-e94dfd86b8dc",
   "metadata": {},
   "outputs": [
    {
     "data": {
      "text/plain": [
       "313    215245\n",
       "335    164660\n",
       "249    159000\n",
       "706    115149\n",
       "451     70761\n",
       "Name: LotArea, dtype: int64"
      ]
     },
     "execution_count": 10,
     "metadata": {},
     "output_type": "execute_result"
    }
   ],
   "source": [
    "df['LotArea'].sort_values(ascending=False)[:5]"
   ]
  },
  {
   "cell_type": "markdown",
   "id": "004796f6-c078-49be-8f06-0e335f986e65",
   "metadata": {},
   "source": [
    "### __item 4__\n",
    "Determine quantos imóveis possuem mais de 2 banheiros (FullBath).\n"
   ]
  },
  {
   "cell_type": "code",
   "execution_count": 11,
   "id": "eeed8398",
   "metadata": {},
   "outputs": [
    {
     "data": {
      "text/plain": [
       "68"
      ]
     },
     "execution_count": 11,
     "metadata": {},
     "output_type": "execute_result"
    }
   ],
   "source": [
    "df[df['FullBath'] > 2]['FullBath'].shape[0]"
   ]
  },
  {
   "cell_type": "markdown",
   "id": "decf8921",
   "metadata": {},
   "source": [
    "## __Exercício 3:__ Análise de Dados de Compras Online\n",
    "\n",
    "__Dataset:__ Disponível no Kaggle como _Brazilian E-Commerce Public Dataset by Olist._"
   ]
  },
  {
   "cell_type": "code",
   "execution_count": 12,
   "id": "276ccb1d-a1da-411a-ae4e-0c81e9c680ae",
   "metadata": {},
   "outputs": [
    {
     "data": {
      "text/plain": [
       "(99441, 8)"
      ]
     },
     "execution_count": 12,
     "metadata": {},
     "output_type": "execute_result"
    }
   ],
   "source": [
    "df = pd.read_csv('olist_orders_dataset.csv')\n",
    "\n",
    "time_cols = ['order_purchase_timestamp',\n",
    "             'order_approved_at',\n",
    "             'order_delivered_carrier_date', \n",
    "             'order_delivered_customer_date',\n",
    "             'order_estimated_delivery_date']\n",
    "\n",
    "df[time_cols] = df[time_cols].apply(pd.to_datetime)\n",
    "\n",
    "df.shape"
   ]
  },
  {
   "cell_type": "markdown",
   "id": "066144b7-26d4-4cfd-b153-ced783f47f84",
   "metadata": {},
   "source": [
    "### __item 1__\n",
    "Determine quantos pedidos foram feitos em cada ano.\n"
   ]
  },
  {
   "cell_type": "code",
   "execution_count": 13,
   "id": "900c4653-e403-4337-943c-a99c9733e7d7",
   "metadata": {},
   "outputs": [
    {
     "data": {
      "text/plain": [
       "year\n",
       "2018    54011\n",
       "2017    45101\n",
       "2016      329\n",
       "Name: count, dtype: int64"
      ]
     },
     "execution_count": 13,
     "metadata": {},
     "output_type": "execute_result"
    }
   ],
   "source": [
    "df['year'] = df['order_purchase_timestamp'].dt.year\n",
    "df['year'].value_counts()"
   ]
  },
  {
   "cell_type": "markdown",
   "id": "37fa9bac-44a1-44b2-bff6-4512f3dd3ed5",
   "metadata": {},
   "source": [
    "### __item 2__\n",
    "Calcule o tempo médio de entrega (diferença entre order_purchase_timestamp e order_delivered_customer_date)."
   ]
  },
  {
   "cell_type": "code",
   "execution_count": 14,
   "id": "5636d5f0-e8e2-423c-9c19-b1f339330356",
   "metadata": {},
   "outputs": [
    {
     "data": {
      "text/plain": [
       "Timedelta('12 days 13:23:49.957271690')"
      ]
     },
     "execution_count": 14,
     "metadata": {},
     "output_type": "execute_result"
    }
   ],
   "source": [
    "(\n",
    "    df[df['order_status'] == 'delivered']['order_delivered_customer_date']\n",
    "    -\n",
    "    df[df['order_status'] == 'delivered']['order_purchase_timestamp']\n",
    ").mean()"
   ]
  },
  {
   "cell_type": "markdown",
   "id": "ccc6cc50-25d1-44d1-ad09-f615e59842c9",
   "metadata": {},
   "source": [
    "### __3__\n",
    "Identifique o top 5 categorias de produtos mais vendidos.   "
   ]
  },
  {
   "cell_type": "code",
   "execution_count": null,
   "id": "db754a29",
   "metadata": {},
   "outputs": [],
   "source": []
  },
  {
   "cell_type": "code",
   "execution_count": 15,
   "id": "4da47449-3eb5-4141-bce1-89d78af7c451",
   "metadata": {},
   "outputs": [
    {
     "data": {
      "text/html": [
       "<div>\n",
       "<style scoped>\n",
       "    .dataframe tbody tr th:only-of-type {\n",
       "        vertical-align: middle;\n",
       "    }\n",
       "\n",
       "    .dataframe tbody tr th {\n",
       "        vertical-align: top;\n",
       "    }\n",
       "\n",
       "    .dataframe thead th {\n",
       "        text-align: right;\n",
       "    }\n",
       "</style>\n",
       "<table border=\"1\" class=\"dataframe\">\n",
       "  <thead>\n",
       "    <tr style=\"text-align: right;\">\n",
       "      <th></th>\n",
       "      <th>product_id</th>\n",
       "      <th>product_category_name</th>\n",
       "      <th>product_name_lenght</th>\n",
       "      <th>product_description_lenght</th>\n",
       "      <th>product_photos_qty</th>\n",
       "      <th>product_weight_g</th>\n",
       "      <th>product_length_cm</th>\n",
       "      <th>product_height_cm</th>\n",
       "      <th>product_width_cm</th>\n",
       "    </tr>\n",
       "  </thead>\n",
       "  <tbody>\n",
       "    <tr>\n",
       "      <th>0</th>\n",
       "      <td>1e9e8ef04dbcff4541ed26657ea517e5</td>\n",
       "      <td>perfumaria</td>\n",
       "      <td>40.0</td>\n",
       "      <td>287.0</td>\n",
       "      <td>1.0</td>\n",
       "      <td>225.0</td>\n",
       "      <td>16.0</td>\n",
       "      <td>10.0</td>\n",
       "      <td>14.0</td>\n",
       "    </tr>\n",
       "  </tbody>\n",
       "</table>\n",
       "</div>"
      ],
      "text/plain": [
       "                         product_id product_category_name  \\\n",
       "0  1e9e8ef04dbcff4541ed26657ea517e5            perfumaria   \n",
       "\n",
       "   product_name_lenght  product_description_lenght  product_photos_qty  \\\n",
       "0                 40.0                       287.0                 1.0   \n",
       "\n",
       "   product_weight_g  product_length_cm  product_height_cm  product_width_cm  \n",
       "0             225.0               16.0               10.0              14.0  "
      ]
     },
     "execution_count": 15,
     "metadata": {},
     "output_type": "execute_result"
    }
   ],
   "source": [
    "pd.read_csv('olist_products_dataset.csv').head(1)"
   ]
  },
  {
   "cell_type": "code",
   "execution_count": 16,
   "id": "846f6ca0",
   "metadata": {},
   "outputs": [
    {
     "data": {
      "text/html": [
       "<div>\n",
       "<style scoped>\n",
       "    .dataframe tbody tr th:only-of-type {\n",
       "        vertical-align: middle;\n",
       "    }\n",
       "\n",
       "    .dataframe tbody tr th {\n",
       "        vertical-align: top;\n",
       "    }\n",
       "\n",
       "    .dataframe thead th {\n",
       "        text-align: right;\n",
       "    }\n",
       "</style>\n",
       "<table border=\"1\" class=\"dataframe\">\n",
       "  <thead>\n",
       "    <tr style=\"text-align: right;\">\n",
       "      <th></th>\n",
       "      <th>order_id</th>\n",
       "      <th>order_item_id</th>\n",
       "      <th>product_id</th>\n",
       "      <th>seller_id</th>\n",
       "      <th>shipping_limit_date</th>\n",
       "      <th>price</th>\n",
       "      <th>freight_value</th>\n",
       "    </tr>\n",
       "  </thead>\n",
       "  <tbody>\n",
       "    <tr>\n",
       "      <th>0</th>\n",
       "      <td>00010242fe8c5a6d1ba2dd792cb16214</td>\n",
       "      <td>1</td>\n",
       "      <td>4244733e06e7ecb4970a6e2683c13e61</td>\n",
       "      <td>48436dade18ac8b2bce089ec2a041202</td>\n",
       "      <td>2017-09-19 09:45:35</td>\n",
       "      <td>58.90</td>\n",
       "      <td>13.29</td>\n",
       "    </tr>\n",
       "    <tr>\n",
       "      <th>1</th>\n",
       "      <td>00018f77f2f0320c557190d7a144bdd3</td>\n",
       "      <td>1</td>\n",
       "      <td>e5f2d52b802189ee658865ca93d83a8f</td>\n",
       "      <td>dd7ddc04e1b6c2c614352b383efe2d36</td>\n",
       "      <td>2017-05-03 11:05:13</td>\n",
       "      <td>239.90</td>\n",
       "      <td>19.93</td>\n",
       "    </tr>\n",
       "    <tr>\n",
       "      <th>2</th>\n",
       "      <td>000229ec398224ef6ca0657da4fc703e</td>\n",
       "      <td>1</td>\n",
       "      <td>c777355d18b72b67abbeef9df44fd0fd</td>\n",
       "      <td>5b51032eddd242adc84c38acab88f23d</td>\n",
       "      <td>2018-01-18 14:48:30</td>\n",
       "      <td>199.00</td>\n",
       "      <td>17.87</td>\n",
       "    </tr>\n",
       "    <tr>\n",
       "      <th>3</th>\n",
       "      <td>00024acbcdf0a6daa1e931b038114c75</td>\n",
       "      <td>1</td>\n",
       "      <td>7634da152a4610f1595efa32f14722fc</td>\n",
       "      <td>9d7a1d34a5052409006425275ba1c2b4</td>\n",
       "      <td>2018-08-15 10:10:18</td>\n",
       "      <td>12.99</td>\n",
       "      <td>12.79</td>\n",
       "    </tr>\n",
       "    <tr>\n",
       "      <th>4</th>\n",
       "      <td>00042b26cf59d7ce69dfabb4e55b4fd9</td>\n",
       "      <td>1</td>\n",
       "      <td>ac6c3623068f30de03045865e4e10089</td>\n",
       "      <td>df560393f3a51e74553ab94004ba5c87</td>\n",
       "      <td>2017-02-13 13:57:51</td>\n",
       "      <td>199.90</td>\n",
       "      <td>18.14</td>\n",
       "    </tr>\n",
       "    <tr>\n",
       "      <th>...</th>\n",
       "      <td>...</td>\n",
       "      <td>...</td>\n",
       "      <td>...</td>\n",
       "      <td>...</td>\n",
       "      <td>...</td>\n",
       "      <td>...</td>\n",
       "      <td>...</td>\n",
       "    </tr>\n",
       "    <tr>\n",
       "      <th>112645</th>\n",
       "      <td>fffc94f6ce00a00581880bf54a75a037</td>\n",
       "      <td>1</td>\n",
       "      <td>4aa6014eceb682077f9dc4bffebc05b0</td>\n",
       "      <td>b8bc237ba3788b23da09c0f1f3a3288c</td>\n",
       "      <td>2018-05-02 04:11:01</td>\n",
       "      <td>299.99</td>\n",
       "      <td>43.41</td>\n",
       "    </tr>\n",
       "    <tr>\n",
       "      <th>112646</th>\n",
       "      <td>fffcd46ef2263f404302a634eb57f7eb</td>\n",
       "      <td>1</td>\n",
       "      <td>32e07fd915822b0765e448c4dd74c828</td>\n",
       "      <td>f3c38ab652836d21de61fb8314b69182</td>\n",
       "      <td>2018-07-20 04:31:48</td>\n",
       "      <td>350.00</td>\n",
       "      <td>36.53</td>\n",
       "    </tr>\n",
       "    <tr>\n",
       "      <th>112647</th>\n",
       "      <td>fffce4705a9662cd70adb13d4a31832d</td>\n",
       "      <td>1</td>\n",
       "      <td>72a30483855e2eafc67aee5dc2560482</td>\n",
       "      <td>c3cfdc648177fdbbbb35635a37472c53</td>\n",
       "      <td>2017-10-30 17:14:25</td>\n",
       "      <td>99.90</td>\n",
       "      <td>16.95</td>\n",
       "    </tr>\n",
       "    <tr>\n",
       "      <th>112648</th>\n",
       "      <td>fffe18544ffabc95dfada21779c9644f</td>\n",
       "      <td>1</td>\n",
       "      <td>9c422a519119dcad7575db5af1ba540e</td>\n",
       "      <td>2b3e4a2a3ea8e01938cabda2a3e5cc79</td>\n",
       "      <td>2017-08-21 00:04:32</td>\n",
       "      <td>55.99</td>\n",
       "      <td>8.72</td>\n",
       "    </tr>\n",
       "    <tr>\n",
       "      <th>112649</th>\n",
       "      <td>fffe41c64501cc87c801fd61db3f6244</td>\n",
       "      <td>1</td>\n",
       "      <td>350688d9dc1e75ff97be326363655e01</td>\n",
       "      <td>f7ccf836d21b2fb1de37564105216cc1</td>\n",
       "      <td>2018-06-12 17:10:13</td>\n",
       "      <td>43.00</td>\n",
       "      <td>12.79</td>\n",
       "    </tr>\n",
       "  </tbody>\n",
       "</table>\n",
       "<p>112650 rows × 7 columns</p>\n",
       "</div>"
      ],
      "text/plain": [
       "                                order_id  order_item_id  \\\n",
       "0       00010242fe8c5a6d1ba2dd792cb16214              1   \n",
       "1       00018f77f2f0320c557190d7a144bdd3              1   \n",
       "2       000229ec398224ef6ca0657da4fc703e              1   \n",
       "3       00024acbcdf0a6daa1e931b038114c75              1   \n",
       "4       00042b26cf59d7ce69dfabb4e55b4fd9              1   \n",
       "...                                  ...            ...   \n",
       "112645  fffc94f6ce00a00581880bf54a75a037              1   \n",
       "112646  fffcd46ef2263f404302a634eb57f7eb              1   \n",
       "112647  fffce4705a9662cd70adb13d4a31832d              1   \n",
       "112648  fffe18544ffabc95dfada21779c9644f              1   \n",
       "112649  fffe41c64501cc87c801fd61db3f6244              1   \n",
       "\n",
       "                              product_id                         seller_id  \\\n",
       "0       4244733e06e7ecb4970a6e2683c13e61  48436dade18ac8b2bce089ec2a041202   \n",
       "1       e5f2d52b802189ee658865ca93d83a8f  dd7ddc04e1b6c2c614352b383efe2d36   \n",
       "2       c777355d18b72b67abbeef9df44fd0fd  5b51032eddd242adc84c38acab88f23d   \n",
       "3       7634da152a4610f1595efa32f14722fc  9d7a1d34a5052409006425275ba1c2b4   \n",
       "4       ac6c3623068f30de03045865e4e10089  df560393f3a51e74553ab94004ba5c87   \n",
       "...                                  ...                               ...   \n",
       "112645  4aa6014eceb682077f9dc4bffebc05b0  b8bc237ba3788b23da09c0f1f3a3288c   \n",
       "112646  32e07fd915822b0765e448c4dd74c828  f3c38ab652836d21de61fb8314b69182   \n",
       "112647  72a30483855e2eafc67aee5dc2560482  c3cfdc648177fdbbbb35635a37472c53   \n",
       "112648  9c422a519119dcad7575db5af1ba540e  2b3e4a2a3ea8e01938cabda2a3e5cc79   \n",
       "112649  350688d9dc1e75ff97be326363655e01  f7ccf836d21b2fb1de37564105216cc1   \n",
       "\n",
       "        shipping_limit_date   price  freight_value  \n",
       "0       2017-09-19 09:45:35   58.90          13.29  \n",
       "1       2017-05-03 11:05:13  239.90          19.93  \n",
       "2       2018-01-18 14:48:30  199.00          17.87  \n",
       "3       2018-08-15 10:10:18   12.99          12.79  \n",
       "4       2017-02-13 13:57:51  199.90          18.14  \n",
       "...                     ...     ...            ...  \n",
       "112645  2018-05-02 04:11:01  299.99          43.41  \n",
       "112646  2018-07-20 04:31:48  350.00          36.53  \n",
       "112647  2017-10-30 17:14:25   99.90          16.95  \n",
       "112648  2017-08-21 00:04:32   55.99           8.72  \n",
       "112649  2018-06-12 17:10:13   43.00          12.79  \n",
       "\n",
       "[112650 rows x 7 columns]"
      ]
     },
     "execution_count": 16,
     "metadata": {},
     "output_type": "execute_result"
    }
   ],
   "source": [
    "pd.read_csv('olist_order_items_dataset.csv')"
   ]
  },
  {
   "cell_type": "code",
   "execution_count": 17,
   "id": "f69a322f",
   "metadata": {},
   "outputs": [
    {
     "name": "stdout",
     "output_type": "stream",
     "text": [
      "order_id\n",
      "order_item_id\n",
      "product_id\n",
      "seller_id\n",
      "shipping_limit_date\n",
      "price\n",
      "freight_value\n"
     ]
    },
    {
     "data": {
      "text/plain": [
       "(112650, 7)"
      ]
     },
     "execution_count": 17,
     "metadata": {},
     "output_type": "execute_result"
    }
   ],
   "source": [
    "for i in pd.read_csv('olist_order_items_dataset.csv').columns:\n",
    "    print(i)\n",
    "pd.read_csv('olist_order_items_dataset.csv').shape"
   ]
  },
  {
   "cell_type": "code",
   "execution_count": 18,
   "id": "2f6dafad",
   "metadata": {},
   "outputs": [
    {
     "name": "stdout",
     "output_type": "stream",
     "text": [
      "order_id\n",
      "customer_id\n",
      "order_status\n",
      "order_purchase_timestamp\n",
      "order_approved_at\n",
      "order_delivered_carrier_date\n",
      "order_delivered_customer_date\n",
      "order_estimated_delivery_date\n"
     ]
    },
    {
     "data": {
      "text/plain": [
       "(99441, 8)"
      ]
     },
     "execution_count": 18,
     "metadata": {},
     "output_type": "execute_result"
    }
   ],
   "source": [
    "for i in pd.read_csv('olist_orders_dataset.csv').columns:\n",
    "    print(i)\n",
    "pd.read_csv('olist_orders_dataset.csv').shape"
   ]
  },
  {
   "cell_type": "code",
   "execution_count": 19,
   "id": "4078ea96",
   "metadata": {
    "scrolled": true
   },
   "outputs": [
    {
     "name": "stdout",
     "output_type": "stream",
     "text": [
      "product_id\n",
      "product_category_name\n",
      "product_name_lenght\n",
      "product_description_lenght\n",
      "product_photos_qty\n",
      "product_weight_g\n",
      "product_length_cm\n",
      "product_height_cm\n",
      "product_width_cm\n"
     ]
    },
    {
     "data": {
      "text/plain": [
       "(32951, 9)"
      ]
     },
     "execution_count": 19,
     "metadata": {},
     "output_type": "execute_result"
    }
   ],
   "source": [
    "for i in pd.read_csv('olist_products_dataset.csv').columns:\n",
    "    print(i)\n",
    "pd.read_csv('olist_products_dataset.csv').shape"
   ]
  },
  {
   "cell_type": "markdown",
   "id": "1df429ec",
   "metadata": {},
   "source": [
    "## __Exercício 4:__ Análise de Dados de Filmes do IMDb\n",
    "    \n",
    "__Dataset:__ Disponível no Kaggle como _IMDb movies extensive dataset_."
   ]
  },
  {
   "cell_type": "code",
   "execution_count": 20,
   "id": "f685bd0c",
   "metadata": {},
   "outputs": [
    {
     "data": {
      "text/html": [
       "<div>\n",
       "<style scoped>\n",
       "    .dataframe tbody tr th:only-of-type {\n",
       "        vertical-align: middle;\n",
       "    }\n",
       "\n",
       "    .dataframe tbody tr th {\n",
       "        vertical-align: top;\n",
       "    }\n",
       "\n",
       "    .dataframe thead th {\n",
       "        text-align: right;\n",
       "    }\n",
       "</style>\n",
       "<table border=\"1\" class=\"dataframe\">\n",
       "  <thead>\n",
       "    <tr style=\"text-align: right;\">\n",
       "      <th></th>\n",
       "      <th>imdb_title_id</th>\n",
       "      <th>title</th>\n",
       "      <th>original_title</th>\n",
       "      <th>year</th>\n",
       "      <th>date_published</th>\n",
       "      <th>genre</th>\n",
       "      <th>duration</th>\n",
       "      <th>country</th>\n",
       "      <th>language</th>\n",
       "      <th>director</th>\n",
       "      <th>...</th>\n",
       "      <th>actors</th>\n",
       "      <th>description</th>\n",
       "      <th>avg_vote</th>\n",
       "      <th>votes</th>\n",
       "      <th>budget</th>\n",
       "      <th>usa_gross_income</th>\n",
       "      <th>worlwide_gross_income</th>\n",
       "      <th>metascore</th>\n",
       "      <th>reviews_from_users</th>\n",
       "      <th>reviews_from_critics</th>\n",
       "    </tr>\n",
       "  </thead>\n",
       "  <tbody>\n",
       "    <tr>\n",
       "      <th>45381</th>\n",
       "      <td>tt0405860</td>\n",
       "      <td>Dazhe ne dumay! Ten nezavisimosti</td>\n",
       "      <td>Dazhe ne dumay! Ten nezavisimosti</td>\n",
       "      <td>2004</td>\n",
       "      <td>2004-04-01</td>\n",
       "      <td>Adventure, Comedy, Crime</td>\n",
       "      <td>97</td>\n",
       "      <td>Russia</td>\n",
       "      <td>Russian</td>\n",
       "      <td>Ruslan Baltzer</td>\n",
       "      <td>...</td>\n",
       "      <td>Aleksey Alekseev, Sergey Mukhin, Artyom Tkache...</td>\n",
       "      <td>This story is about three slacker friends: Mar...</td>\n",
       "      <td>3.9</td>\n",
       "      <td>238</td>\n",
       "      <td>NaN</td>\n",
       "      <td>NaN</td>\n",
       "      <td>$ 2102024</td>\n",
       "      <td>NaN</td>\n",
       "      <td>NaN</td>\n",
       "      <td>NaN</td>\n",
       "    </tr>\n",
       "    <tr>\n",
       "      <th>61292</th>\n",
       "      <td>tt1723123</td>\n",
       "      <td>Exit Strategy</td>\n",
       "      <td>Exit Strategy</td>\n",
       "      <td>2012</td>\n",
       "      <td>2012-02-10</td>\n",
       "      <td>Comedy, Romance</td>\n",
       "      <td>76</td>\n",
       "      <td>USA</td>\n",
       "      <td>English</td>\n",
       "      <td>Michael Whitton</td>\n",
       "      <td>...</td>\n",
       "      <td>Jameel Saleem, Quincy Harris, Noelle Balfour, ...</td>\n",
       "      <td>Evicted from his apartment, James has to move ...</td>\n",
       "      <td>3.1</td>\n",
       "      <td>355</td>\n",
       "      <td>NaN</td>\n",
       "      <td>NaN</td>\n",
       "      <td>NaN</td>\n",
       "      <td>NaN</td>\n",
       "      <td>15.0</td>\n",
       "      <td>3.0</td>\n",
       "    </tr>\n",
       "    <tr>\n",
       "      <th>76664</th>\n",
       "      <td>tt5077912</td>\n",
       "      <td>White Lies, Black Lies</td>\n",
       "      <td>White Lies, Black Lies</td>\n",
       "      <td>2015</td>\n",
       "      <td>2016-04-15</td>\n",
       "      <td>Crime, Mystery, Romance</td>\n",
       "      <td>94</td>\n",
       "      <td>Taiwan</td>\n",
       "      <td>Mandarin</td>\n",
       "      <td>Yi-an Lou</td>\n",
       "      <td>...</td>\n",
       "      <td>Wei-Ning Hsu, Edison Wang, Annie Chen, Teng-Hu...</td>\n",
       "      <td>Heads are lined up on the shelves one next to ...</td>\n",
       "      <td>3.6</td>\n",
       "      <td>248</td>\n",
       "      <td>NaN</td>\n",
       "      <td>NaN</td>\n",
       "      <td>NaN</td>\n",
       "      <td>NaN</td>\n",
       "      <td>NaN</td>\n",
       "      <td>2.0</td>\n",
       "    </tr>\n",
       "  </tbody>\n",
       "</table>\n",
       "<p>3 rows × 22 columns</p>\n",
       "</div>"
      ],
      "text/plain": [
       "      imdb_title_id                              title  \\\n",
       "45381     tt0405860  Dazhe ne dumay! Ten nezavisimosti   \n",
       "61292     tt1723123                      Exit Strategy   \n",
       "76664     tt5077912             White Lies, Black Lies   \n",
       "\n",
       "                          original_title  year date_published  \\\n",
       "45381  Dazhe ne dumay! Ten nezavisimosti  2004     2004-04-01   \n",
       "61292                      Exit Strategy  2012     2012-02-10   \n",
       "76664             White Lies, Black Lies  2015     2016-04-15   \n",
       "\n",
       "                          genre  duration country  language         director  \\\n",
       "45381  Adventure, Comedy, Crime        97  Russia   Russian   Ruslan Baltzer   \n",
       "61292           Comedy, Romance        76     USA   English  Michael Whitton   \n",
       "76664   Crime, Mystery, Romance        94  Taiwan  Mandarin        Yi-an Lou   \n",
       "\n",
       "       ...                                             actors  \\\n",
       "45381  ...  Aleksey Alekseev, Sergey Mukhin, Artyom Tkache...   \n",
       "61292  ...  Jameel Saleem, Quincy Harris, Noelle Balfour, ...   \n",
       "76664  ...  Wei-Ning Hsu, Edison Wang, Annie Chen, Teng-Hu...   \n",
       "\n",
       "                                             description avg_vote votes  \\\n",
       "45381  This story is about three slacker friends: Mar...      3.9   238   \n",
       "61292  Evicted from his apartment, James has to move ...      3.1   355   \n",
       "76664  Heads are lined up on the shelves one next to ...      3.6   248   \n",
       "\n",
       "       budget  usa_gross_income worlwide_gross_income metascore  \\\n",
       "45381     NaN               NaN             $ 2102024       NaN   \n",
       "61292     NaN               NaN                   NaN       NaN   \n",
       "76664     NaN               NaN                   NaN       NaN   \n",
       "\n",
       "      reviews_from_users  reviews_from_critics  \n",
       "45381                NaN                   NaN  \n",
       "61292               15.0                   3.0  \n",
       "76664                NaN                   2.0  \n",
       "\n",
       "[3 rows x 22 columns]"
      ]
     },
     "execution_count": 20,
     "metadata": {},
     "output_type": "execute_result"
    }
   ],
   "source": [
    "movies  = pd.read_csv(\"imdbmovies.csv\",low_memory=False)\n",
    "movies.sample(3)"
   ]
  },
  {
   "cell_type": "markdown",
   "id": "e1d041da-9a08-4b98-ba0b-e65dd02f36d9",
   "metadata": {},
   "source": [
    "__Questões:__\n",
    "\n",
    "__1-__ Exiba os títulos e anos dos 10 filmes mais recentes no dataset.\n",
    "\n",
    "__R:__ Não foi possível fazer a conversão de toda a coluna `date_published` para datetime, então investigamos abaixo quais são os formatos que falharam na conversão:"
   ]
  },
  {
   "cell_type": "code",
   "execution_count": 21,
   "id": "afcc0b0f-872d-4c41-ad84-d15135167212",
   "metadata": {},
   "outputs": [
    {
     "name": "stdout",
     "output_type": "stream",
     "text": [
      "TV Movie 2019\n"
     ]
    }
   ],
   "source": [
    "for i in movies['date_published'].unique():\n",
    "    try:\n",
    "        pd.to_datetime(i)\n",
    "    except:\n",
    "        print(i)"
   ]
  },
  {
   "cell_type": "markdown",
   "id": "e0e0d48b-c580-421a-b01e-e0fc1d337174",
   "metadata": {},
   "source": [
    "Checamos onde temos o problema:"
   ]
  },
  {
   "cell_type": "code",
   "execution_count": 22,
   "id": "7e7bc820-8424-4c01-a78f-bcc43a4a0702",
   "metadata": {},
   "outputs": [
    {
     "data": {
      "text/html": [
       "<div>\n",
       "<style scoped>\n",
       "    .dataframe tbody tr th:only-of-type {\n",
       "        vertical-align: middle;\n",
       "    }\n",
       "\n",
       "    .dataframe tbody tr th {\n",
       "        vertical-align: top;\n",
       "    }\n",
       "\n",
       "    .dataframe thead th {\n",
       "        text-align: right;\n",
       "    }\n",
       "</style>\n",
       "<table border=\"1\" class=\"dataframe\">\n",
       "  <thead>\n",
       "    <tr style=\"text-align: right;\">\n",
       "      <th></th>\n",
       "      <th>imdb_title_id</th>\n",
       "      <th>title</th>\n",
       "      <th>original_title</th>\n",
       "      <th>year</th>\n",
       "      <th>date_published</th>\n",
       "      <th>genre</th>\n",
       "      <th>duration</th>\n",
       "      <th>country</th>\n",
       "      <th>language</th>\n",
       "      <th>director</th>\n",
       "      <th>...</th>\n",
       "      <th>actors</th>\n",
       "      <th>description</th>\n",
       "      <th>avg_vote</th>\n",
       "      <th>votes</th>\n",
       "      <th>budget</th>\n",
       "      <th>usa_gross_income</th>\n",
       "      <th>worlwide_gross_income</th>\n",
       "      <th>metascore</th>\n",
       "      <th>reviews_from_users</th>\n",
       "      <th>reviews_from_critics</th>\n",
       "    </tr>\n",
       "  </thead>\n",
       "  <tbody>\n",
       "    <tr>\n",
       "      <th>83917</th>\n",
       "      <td>tt8206668</td>\n",
       "      <td>Bad Education</td>\n",
       "      <td>Bad Education</td>\n",
       "      <td>TV Movie 2019</td>\n",
       "      <td>TV Movie 2019</td>\n",
       "      <td>Biography, Comedy, Crime</td>\n",
       "      <td>108</td>\n",
       "      <td>USA</td>\n",
       "      <td>English</td>\n",
       "      <td>Cory Finley</td>\n",
       "      <td>...</td>\n",
       "      <td>Hugh Jackman, Ray Romano, Welker White, Alliso...</td>\n",
       "      <td>The beloved superintendent of New York's Rosly...</td>\n",
       "      <td>7.1</td>\n",
       "      <td>23973</td>\n",
       "      <td>NaN</td>\n",
       "      <td>NaN</td>\n",
       "      <td>NaN</td>\n",
       "      <td>79.0</td>\n",
       "      <td>135.0</td>\n",
       "      <td>98.0</td>\n",
       "    </tr>\n",
       "  </tbody>\n",
       "</table>\n",
       "<p>1 rows × 22 columns</p>\n",
       "</div>"
      ],
      "text/plain": [
       "      imdb_title_id          title original_title           year  \\\n",
       "83917     tt8206668  Bad Education  Bad Education  TV Movie 2019   \n",
       "\n",
       "      date_published                     genre  duration country language  \\\n",
       "83917  TV Movie 2019  Biography, Comedy, Crime       108     USA  English   \n",
       "\n",
       "          director  ...                                             actors  \\\n",
       "83917  Cory Finley  ...  Hugh Jackman, Ray Romano, Welker White, Alliso...   \n",
       "\n",
       "                                             description avg_vote  votes  \\\n",
       "83917  The beloved superintendent of New York's Rosly...      7.1  23973   \n",
       "\n",
       "       budget  usa_gross_income worlwide_gross_income metascore  \\\n",
       "83917     NaN               NaN                   NaN      79.0   \n",
       "\n",
       "      reviews_from_users  reviews_from_critics  \n",
       "83917              135.0                  98.0  \n",
       "\n",
       "[1 rows x 22 columns]"
      ]
     },
     "execution_count": 22,
     "metadata": {},
     "output_type": "execute_result"
    }
   ],
   "source": [
    "movies[movies['date_published'] == 'TV Movie 2019']"
   ]
  },
  {
   "cell_type": "markdown",
   "id": "8ff15fda-3933-4c09-a20e-1a108f75aa45",
   "metadata": {},
   "source": [
    "Consertamos a data e, em seguida, convertemos toda a coluna para o formato de datetime, e assim estamos em condições de responder a questão:"
   ]
  },
  {
   "cell_type": "code",
   "execution_count": 23,
   "id": "d4121767-492b-4803-858f-36f859501c60",
   "metadata": {},
   "outputs": [
    {
     "data": {
      "text/html": [
       "<div>\n",
       "<style scoped>\n",
       "    .dataframe tbody tr th:only-of-type {\n",
       "        vertical-align: middle;\n",
       "    }\n",
       "\n",
       "    .dataframe tbody tr th {\n",
       "        vertical-align: top;\n",
       "    }\n",
       "\n",
       "    .dataframe thead th {\n",
       "        text-align: right;\n",
       "    }\n",
       "</style>\n",
       "<table border=\"1\" class=\"dataframe\">\n",
       "  <thead>\n",
       "    <tr style=\"text-align: right;\">\n",
       "      <th></th>\n",
       "      <th>title</th>\n",
       "      <th>date_published</th>\n",
       "    </tr>\n",
       "  </thead>\n",
       "  <tbody>\n",
       "    <tr>\n",
       "      <th>84686</th>\n",
       "      <td>A Wakefield Project</td>\n",
       "      <td>2021-05-07</td>\n",
       "    </tr>\n",
       "    <tr>\n",
       "      <th>81909</th>\n",
       "      <td>Shadows in Mind</td>\n",
       "      <td>2021-04-30</td>\n",
       "    </tr>\n",
       "    <tr>\n",
       "      <th>83083</th>\n",
       "      <td>Winterskin</td>\n",
       "      <td>2021-04-16</td>\n",
       "    </tr>\n",
       "    <tr>\n",
       "      <th>77295</th>\n",
       "      <td>The Terrible Two</td>\n",
       "      <td>2021-04-02</td>\n",
       "    </tr>\n",
       "    <tr>\n",
       "      <th>52656</th>\n",
       "      <td>The Father</td>\n",
       "      <td>2021-01-08</td>\n",
       "    </tr>\n",
       "    <tr>\n",
       "      <th>71492</th>\n",
       "      <td>Kids vs Monsters</td>\n",
       "      <td>2021-01-01</td>\n",
       "    </tr>\n",
       "    <tr>\n",
       "      <th>75852</th>\n",
       "      <td>SpongeBob - Amici in fuga</td>\n",
       "      <td>2021-01-01</td>\n",
       "    </tr>\n",
       "    <tr>\n",
       "      <th>65510</th>\n",
       "      <td>My Salinger Year</td>\n",
       "      <td>2020-11-20</td>\n",
       "    </tr>\n",
       "    <tr>\n",
       "      <th>53298</th>\n",
       "      <td>Minari</td>\n",
       "      <td>2020-11-20</td>\n",
       "    </tr>\n",
       "    <tr>\n",
       "      <th>84515</th>\n",
       "      <td>The Climb</td>\n",
       "      <td>2020-11-13</td>\n",
       "    </tr>\n",
       "  </tbody>\n",
       "</table>\n",
       "</div>"
      ],
      "text/plain": [
       "                           title date_published\n",
       "84686        A Wakefield Project     2021-05-07\n",
       "81909            Shadows in Mind     2021-04-30\n",
       "83083                 Winterskin     2021-04-16\n",
       "77295           The Terrible Two     2021-04-02\n",
       "52656                 The Father     2021-01-08\n",
       "71492           Kids vs Monsters     2021-01-01\n",
       "75852  SpongeBob - Amici in fuga     2021-01-01\n",
       "65510           My Salinger Year     2020-11-20\n",
       "53298                     Minari     2020-11-20\n",
       "84515                  The Climb     2020-11-13"
      ]
     },
     "execution_count": 23,
     "metadata": {},
     "output_type": "execute_result"
    }
   ],
   "source": [
    "# movies[movies['date_published'] == 'TV Movie 2019']\n",
    "movies.at[83917,'date_published'] = 2019\n",
    "movies['date_published'] = movies['date_published'].apply(pd.to_datetime)\n",
    "\n",
    "# exibimos apenas título e ano, ordenamos por ano, mostramos apenas as 10 últimas linhas\n",
    "movies[['title','date_published']].sort_values(by='date_published', ascending=False).iloc[:10,:]"
   ]
  },
  {
   "cell_type": "markdown",
   "id": "5427d7cc-945d-48cb-9265-99a81194b994",
   "metadata": {},
   "source": [
    "__2-__ Calcule a duração média dos filmes."
   ]
  },
  {
   "cell_type": "code",
   "execution_count": 24,
   "id": "db38a5b5-8662-4f6f-99c2-ca06ab7b0c7f",
   "metadata": {},
   "outputs": [
    {
     "data": {
      "text/plain": [
       "100.35141808863781"
      ]
     },
     "execution_count": 24,
     "metadata": {},
     "output_type": "execute_result"
    }
   ],
   "source": [
    "movies['duration'].mean()"
   ]
  },
  {
   "cell_type": "markdown",
   "id": "6261aabc-6128-4e26-93ec-6682f7ba1da5",
   "metadata": {},
   "source": [
    "__3-__ Identifique o filme com a maior quantidade de votos (votes)."
   ]
  },
  {
   "cell_type": "code",
   "execution_count": 25,
   "id": "35d96344-ebf3-44f1-9394-e641c2f55cd1",
   "metadata": {},
   "outputs": [
    {
     "data": {
      "text/html": [
       "<div>\n",
       "<style scoped>\n",
       "    .dataframe tbody tr th:only-of-type {\n",
       "        vertical-align: middle;\n",
       "    }\n",
       "\n",
       "    .dataframe tbody tr th {\n",
       "        vertical-align: top;\n",
       "    }\n",
       "\n",
       "    .dataframe thead th {\n",
       "        text-align: right;\n",
       "    }\n",
       "</style>\n",
       "<table border=\"1\" class=\"dataframe\">\n",
       "  <thead>\n",
       "    <tr style=\"text-align: right;\">\n",
       "      <th></th>\n",
       "      <th>imdb_title_id</th>\n",
       "      <th>title</th>\n",
       "      <th>original_title</th>\n",
       "      <th>year</th>\n",
       "      <th>date_published</th>\n",
       "      <th>genre</th>\n",
       "      <th>duration</th>\n",
       "      <th>country</th>\n",
       "      <th>language</th>\n",
       "      <th>director</th>\n",
       "      <th>...</th>\n",
       "      <th>actors</th>\n",
       "      <th>description</th>\n",
       "      <th>avg_vote</th>\n",
       "      <th>votes</th>\n",
       "      <th>budget</th>\n",
       "      <th>usa_gross_income</th>\n",
       "      <th>worlwide_gross_income</th>\n",
       "      <th>metascore</th>\n",
       "      <th>reviews_from_users</th>\n",
       "      <th>reviews_from_critics</th>\n",
       "    </tr>\n",
       "  </thead>\n",
       "  <tbody>\n",
       "    <tr>\n",
       "      <th>28453</th>\n",
       "      <td>tt0111161</td>\n",
       "      <td>Le ali della libertà</td>\n",
       "      <td>The Shawshank Redemption</td>\n",
       "      <td>1994</td>\n",
       "      <td>1995-02-10</td>\n",
       "      <td>Drama</td>\n",
       "      <td>142</td>\n",
       "      <td>USA</td>\n",
       "      <td>English</td>\n",
       "      <td>Frank Darabont</td>\n",
       "      <td>...</td>\n",
       "      <td>Tim Robbins, Morgan Freeman, Bob Gunton, Willi...</td>\n",
       "      <td>Two imprisoned men bond over a number of years...</td>\n",
       "      <td>9.3</td>\n",
       "      <td>2278845</td>\n",
       "      <td>$ 25000000</td>\n",
       "      <td>$ 28699976</td>\n",
       "      <td>$ 28815245</td>\n",
       "      <td>80.0</td>\n",
       "      <td>8232.0</td>\n",
       "      <td>164.0</td>\n",
       "    </tr>\n",
       "  </tbody>\n",
       "</table>\n",
       "<p>1 rows × 22 columns</p>\n",
       "</div>"
      ],
      "text/plain": [
       "      imdb_title_id                 title            original_title  year  \\\n",
       "28453     tt0111161  Le ali della libertà  The Shawshank Redemption  1994   \n",
       "\n",
       "      date_published  genre  duration country language        director  ...  \\\n",
       "28453     1995-02-10  Drama       142     USA  English  Frank Darabont  ...   \n",
       "\n",
       "                                                  actors  \\\n",
       "28453  Tim Robbins, Morgan Freeman, Bob Gunton, Willi...   \n",
       "\n",
       "                                             description avg_vote    votes  \\\n",
       "28453  Two imprisoned men bond over a number of years...      9.3  2278845   \n",
       "\n",
       "           budget  usa_gross_income worlwide_gross_income metascore  \\\n",
       "28453  $ 25000000        $ 28699976            $ 28815245      80.0   \n",
       "\n",
       "      reviews_from_users  reviews_from_critics  \n",
       "28453             8232.0                 164.0  \n",
       "\n",
       "[1 rows x 22 columns]"
      ]
     },
     "execution_count": 25,
     "metadata": {},
     "output_type": "execute_result"
    }
   ],
   "source": [
    "movies[movies['votes'] == movies['votes'].max()]"
   ]
  },
  {
   "cell_type": "markdown",
   "id": "5ac8580d-bfd2-4422-9bc0-0bc0967f64f1",
   "metadata": {},
   "source": [
    "__4-__ Determine quantos filmes possuem uma classificação (avg_vote) superior a 8."
   ]
  },
  {
   "cell_type": "code",
   "execution_count": 26,
   "id": "812274eb-36d6-41fb-83cc-294827244a23",
   "metadata": {},
   "outputs": [
    {
     "data": {
      "text/plain": [
       "1286"
      ]
     },
     "execution_count": 26,
     "metadata": {},
     "output_type": "execute_result"
    }
   ],
   "source": [
    "movies[movies['avg_vote'] > 8].shape[0]"
   ]
  },
  {
   "cell_type": "markdown",
   "id": "12c3bc7f",
   "metadata": {},
   "source": [
    "## __Exercício 5:__ Explorando Dados de Jogos de Videogame\n",
    "    \n",
    "__Dataset:__ Disponível no Kaggle como _Video Game Sales with Ratings_."
   ]
  },
  {
   "cell_type": "code",
   "execution_count": 27,
   "id": "04819c38",
   "metadata": {},
   "outputs": [
    {
     "data": {
      "text/html": [
       "<div>\n",
       "<style scoped>\n",
       "    .dataframe tbody tr th:only-of-type {\n",
       "        vertical-align: middle;\n",
       "    }\n",
       "\n",
       "    .dataframe tbody tr th {\n",
       "        vertical-align: top;\n",
       "    }\n",
       "\n",
       "    .dataframe thead th {\n",
       "        text-align: right;\n",
       "    }\n",
       "</style>\n",
       "<table border=\"1\" class=\"dataframe\">\n",
       "  <thead>\n",
       "    <tr style=\"text-align: right;\">\n",
       "      <th></th>\n",
       "      <th>Name</th>\n",
       "      <th>Platform</th>\n",
       "      <th>Year_of_Release</th>\n",
       "      <th>Genre</th>\n",
       "      <th>Publisher</th>\n",
       "      <th>NA_Sales</th>\n",
       "      <th>EU_Sales</th>\n",
       "      <th>JP_Sales</th>\n",
       "      <th>Other_Sales</th>\n",
       "      <th>Global_Sales</th>\n",
       "      <th>Critic_Score</th>\n",
       "      <th>Critic_Count</th>\n",
       "      <th>User_Score</th>\n",
       "      <th>User_Count</th>\n",
       "      <th>Developer</th>\n",
       "      <th>Rating</th>\n",
       "    </tr>\n",
       "  </thead>\n",
       "  <tbody>\n",
       "    <tr>\n",
       "      <th>10952</th>\n",
       "      <td>The Story of Noah's Ark</td>\n",
       "      <td>DS</td>\n",
       "      <td>2010.0</td>\n",
       "      <td>Action</td>\n",
       "      <td>SouthPeak Games</td>\n",
       "      <td>0.09</td>\n",
       "      <td>0.00</td>\n",
       "      <td>0.00</td>\n",
       "      <td>0.01</td>\n",
       "      <td>0.09</td>\n",
       "      <td>NaN</td>\n",
       "      <td>NaN</td>\n",
       "      <td>NaN</td>\n",
       "      <td>NaN</td>\n",
       "      <td>NaN</td>\n",
       "      <td>NaN</td>\n",
       "    </tr>\n",
       "    <tr>\n",
       "      <th>14052</th>\n",
       "      <td>Minna de Jibun no Setsumeisho: B-Kata, A-Kata,...</td>\n",
       "      <td>DS</td>\n",
       "      <td>2008.0</td>\n",
       "      <td>Misc</td>\n",
       "      <td>GungHo</td>\n",
       "      <td>0.00</td>\n",
       "      <td>0.00</td>\n",
       "      <td>0.04</td>\n",
       "      <td>0.00</td>\n",
       "      <td>0.04</td>\n",
       "      <td>NaN</td>\n",
       "      <td>NaN</td>\n",
       "      <td>NaN</td>\n",
       "      <td>NaN</td>\n",
       "      <td>NaN</td>\n",
       "      <td>NaN</td>\n",
       "    </tr>\n",
       "    <tr>\n",
       "      <th>1223</th>\n",
       "      <td>NFL GameDay 99</td>\n",
       "      <td>PS</td>\n",
       "      <td>1998.0</td>\n",
       "      <td>Sports</td>\n",
       "      <td>989 Studios</td>\n",
       "      <td>1.44</td>\n",
       "      <td>0.05</td>\n",
       "      <td>0.00</td>\n",
       "      <td>0.04</td>\n",
       "      <td>1.53</td>\n",
       "      <td>NaN</td>\n",
       "      <td>NaN</td>\n",
       "      <td>NaN</td>\n",
       "      <td>NaN</td>\n",
       "      <td>NaN</td>\n",
       "      <td>NaN</td>\n",
       "    </tr>\n",
       "    <tr>\n",
       "      <th>1269</th>\n",
       "      <td>Madden NFL 09</td>\n",
       "      <td>PS2</td>\n",
       "      <td>2008.0</td>\n",
       "      <td>Sports</td>\n",
       "      <td>Electronic Arts</td>\n",
       "      <td>1.22</td>\n",
       "      <td>0.00</td>\n",
       "      <td>0.00</td>\n",
       "      <td>0.27</td>\n",
       "      <td>1.49</td>\n",
       "      <td>67.0</td>\n",
       "      <td>4.0</td>\n",
       "      <td>7</td>\n",
       "      <td>24.0</td>\n",
       "      <td>EA Tiburon</td>\n",
       "      <td>E</td>\n",
       "    </tr>\n",
       "    <tr>\n",
       "      <th>16650</th>\n",
       "      <td>Time Travelers</td>\n",
       "      <td>PSP</td>\n",
       "      <td>2012.0</td>\n",
       "      <td>Adventure</td>\n",
       "      <td>Level 5</td>\n",
       "      <td>0.00</td>\n",
       "      <td>0.00</td>\n",
       "      <td>0.01</td>\n",
       "      <td>0.00</td>\n",
       "      <td>0.01</td>\n",
       "      <td>NaN</td>\n",
       "      <td>NaN</td>\n",
       "      <td>NaN</td>\n",
       "      <td>NaN</td>\n",
       "      <td>NaN</td>\n",
       "      <td>NaN</td>\n",
       "    </tr>\n",
       "    <tr>\n",
       "      <th>10190</th>\n",
       "      <td>Karaoke Revolution Presents American Idol Encore</td>\n",
       "      <td>X360</td>\n",
       "      <td>2008.0</td>\n",
       "      <td>Misc</td>\n",
       "      <td>Konami Digital Entertainment</td>\n",
       "      <td>0.10</td>\n",
       "      <td>0.00</td>\n",
       "      <td>0.00</td>\n",
       "      <td>0.01</td>\n",
       "      <td>0.11</td>\n",
       "      <td>70.0</td>\n",
       "      <td>7.0</td>\n",
       "      <td>7</td>\n",
       "      <td>6.0</td>\n",
       "      <td>Blitz Games</td>\n",
       "      <td>E</td>\n",
       "    </tr>\n",
       "  </tbody>\n",
       "</table>\n",
       "</div>"
      ],
      "text/plain": [
       "                                                    Name Platform  \\\n",
       "10952                            The Story of Noah's Ark       DS   \n",
       "14052  Minna de Jibun no Setsumeisho: B-Kata, A-Kata,...       DS   \n",
       "1223                                      NFL GameDay 99       PS   \n",
       "1269                                       Madden NFL 09      PS2   \n",
       "16650                                     Time Travelers      PSP   \n",
       "10190   Karaoke Revolution Presents American Idol Encore     X360   \n",
       "\n",
       "       Year_of_Release      Genre                     Publisher  NA_Sales  \\\n",
       "10952           2010.0     Action               SouthPeak Games      0.09   \n",
       "14052           2008.0       Misc                        GungHo      0.00   \n",
       "1223            1998.0     Sports                   989 Studios      1.44   \n",
       "1269            2008.0     Sports               Electronic Arts      1.22   \n",
       "16650           2012.0  Adventure                       Level 5      0.00   \n",
       "10190           2008.0       Misc  Konami Digital Entertainment      0.10   \n",
       "\n",
       "       EU_Sales  JP_Sales  Other_Sales  Global_Sales  Critic_Score  \\\n",
       "10952      0.00      0.00         0.01          0.09           NaN   \n",
       "14052      0.00      0.04         0.00          0.04           NaN   \n",
       "1223       0.05      0.00         0.04          1.53           NaN   \n",
       "1269       0.00      0.00         0.27          1.49          67.0   \n",
       "16650      0.00      0.01         0.00          0.01           NaN   \n",
       "10190      0.00      0.00         0.01          0.11          70.0   \n",
       "\n",
       "       Critic_Count User_Score  User_Count    Developer Rating  \n",
       "10952           NaN        NaN         NaN          NaN    NaN  \n",
       "14052           NaN        NaN         NaN          NaN    NaN  \n",
       "1223            NaN        NaN         NaN          NaN    NaN  \n",
       "1269            4.0          7        24.0   EA Tiburon      E  \n",
       "16650           NaN        NaN         NaN          NaN    NaN  \n",
       "10190           7.0          7         6.0  Blitz Games      E  "
      ]
     },
     "execution_count": 27,
     "metadata": {},
     "output_type": "execute_result"
    }
   ],
   "source": [
    "df = pd.read_csv('video_games.csv')\n",
    "df.sample(6)"
   ]
  },
  {
   "cell_type": "markdown",
   "id": "f87c7819-c63d-410e-8a55-d565b1f343c1",
   "metadata": {},
   "source": [
    "__Questões:__\n",
    "\n",
    "__1-__ Liste os 5 jogos mais vendidos globalmente (Global_Sales)\n"
   ]
  },
  {
   "cell_type": "code",
   "execution_count": 28,
   "id": "fad2630d-868d-4834-8a98-47ea2ab2708e",
   "metadata": {},
   "outputs": [
    {
     "data": {
      "text/html": [
       "<div>\n",
       "<style scoped>\n",
       "    .dataframe tbody tr th:only-of-type {\n",
       "        vertical-align: middle;\n",
       "    }\n",
       "\n",
       "    .dataframe tbody tr th {\n",
       "        vertical-align: top;\n",
       "    }\n",
       "\n",
       "    .dataframe thead th {\n",
       "        text-align: right;\n",
       "    }\n",
       "</style>\n",
       "<table border=\"1\" class=\"dataframe\">\n",
       "  <thead>\n",
       "    <tr style=\"text-align: right;\">\n",
       "      <th></th>\n",
       "      <th>Name</th>\n",
       "      <th>Platform</th>\n",
       "      <th>Year_of_Release</th>\n",
       "      <th>Genre</th>\n",
       "      <th>Publisher</th>\n",
       "      <th>NA_Sales</th>\n",
       "      <th>EU_Sales</th>\n",
       "      <th>JP_Sales</th>\n",
       "      <th>Other_Sales</th>\n",
       "      <th>Global_Sales</th>\n",
       "      <th>Critic_Score</th>\n",
       "      <th>Critic_Count</th>\n",
       "      <th>User_Score</th>\n",
       "      <th>User_Count</th>\n",
       "      <th>Developer</th>\n",
       "      <th>Rating</th>\n",
       "    </tr>\n",
       "  </thead>\n",
       "  <tbody>\n",
       "    <tr>\n",
       "      <th>0</th>\n",
       "      <td>Wii Sports</td>\n",
       "      <td>Wii</td>\n",
       "      <td>2006.0</td>\n",
       "      <td>Sports</td>\n",
       "      <td>Nintendo</td>\n",
       "      <td>41.36</td>\n",
       "      <td>28.96</td>\n",
       "      <td>3.77</td>\n",
       "      <td>8.45</td>\n",
       "      <td>82.53</td>\n",
       "      <td>76.0</td>\n",
       "      <td>51.0</td>\n",
       "      <td>8</td>\n",
       "      <td>322.0</td>\n",
       "      <td>Nintendo</td>\n",
       "      <td>E</td>\n",
       "    </tr>\n",
       "    <tr>\n",
       "      <th>1</th>\n",
       "      <td>Super Mario Bros.</td>\n",
       "      <td>NES</td>\n",
       "      <td>1985.0</td>\n",
       "      <td>Platform</td>\n",
       "      <td>Nintendo</td>\n",
       "      <td>29.08</td>\n",
       "      <td>3.58</td>\n",
       "      <td>6.81</td>\n",
       "      <td>0.77</td>\n",
       "      <td>40.24</td>\n",
       "      <td>NaN</td>\n",
       "      <td>NaN</td>\n",
       "      <td>NaN</td>\n",
       "      <td>NaN</td>\n",
       "      <td>NaN</td>\n",
       "      <td>NaN</td>\n",
       "    </tr>\n",
       "    <tr>\n",
       "      <th>2</th>\n",
       "      <td>Mario Kart Wii</td>\n",
       "      <td>Wii</td>\n",
       "      <td>2008.0</td>\n",
       "      <td>Racing</td>\n",
       "      <td>Nintendo</td>\n",
       "      <td>15.68</td>\n",
       "      <td>12.76</td>\n",
       "      <td>3.79</td>\n",
       "      <td>3.29</td>\n",
       "      <td>35.52</td>\n",
       "      <td>82.0</td>\n",
       "      <td>73.0</td>\n",
       "      <td>8.3</td>\n",
       "      <td>709.0</td>\n",
       "      <td>Nintendo</td>\n",
       "      <td>E</td>\n",
       "    </tr>\n",
       "    <tr>\n",
       "      <th>3</th>\n",
       "      <td>Wii Sports Resort</td>\n",
       "      <td>Wii</td>\n",
       "      <td>2009.0</td>\n",
       "      <td>Sports</td>\n",
       "      <td>Nintendo</td>\n",
       "      <td>15.61</td>\n",
       "      <td>10.93</td>\n",
       "      <td>3.28</td>\n",
       "      <td>2.95</td>\n",
       "      <td>32.77</td>\n",
       "      <td>80.0</td>\n",
       "      <td>73.0</td>\n",
       "      <td>8</td>\n",
       "      <td>192.0</td>\n",
       "      <td>Nintendo</td>\n",
       "      <td>E</td>\n",
       "    </tr>\n",
       "    <tr>\n",
       "      <th>4</th>\n",
       "      <td>Pokemon Red/Pokemon Blue</td>\n",
       "      <td>GB</td>\n",
       "      <td>1996.0</td>\n",
       "      <td>Role-Playing</td>\n",
       "      <td>Nintendo</td>\n",
       "      <td>11.27</td>\n",
       "      <td>8.89</td>\n",
       "      <td>10.22</td>\n",
       "      <td>1.00</td>\n",
       "      <td>31.37</td>\n",
       "      <td>NaN</td>\n",
       "      <td>NaN</td>\n",
       "      <td>NaN</td>\n",
       "      <td>NaN</td>\n",
       "      <td>NaN</td>\n",
       "      <td>NaN</td>\n",
       "    </tr>\n",
       "  </tbody>\n",
       "</table>\n",
       "</div>"
      ],
      "text/plain": [
       "                       Name Platform  Year_of_Release         Genre Publisher  \\\n",
       "0                Wii Sports      Wii           2006.0        Sports  Nintendo   \n",
       "1         Super Mario Bros.      NES           1985.0      Platform  Nintendo   \n",
       "2            Mario Kart Wii      Wii           2008.0        Racing  Nintendo   \n",
       "3         Wii Sports Resort      Wii           2009.0        Sports  Nintendo   \n",
       "4  Pokemon Red/Pokemon Blue       GB           1996.0  Role-Playing  Nintendo   \n",
       "\n",
       "   NA_Sales  EU_Sales  JP_Sales  Other_Sales  Global_Sales  Critic_Score  \\\n",
       "0     41.36     28.96      3.77         8.45         82.53          76.0   \n",
       "1     29.08      3.58      6.81         0.77         40.24           NaN   \n",
       "2     15.68     12.76      3.79         3.29         35.52          82.0   \n",
       "3     15.61     10.93      3.28         2.95         32.77          80.0   \n",
       "4     11.27      8.89     10.22         1.00         31.37           NaN   \n",
       "\n",
       "   Critic_Count User_Score  User_Count Developer Rating  \n",
       "0          51.0          8       322.0  Nintendo      E  \n",
       "1           NaN        NaN         NaN       NaN    NaN  \n",
       "2          73.0        8.3       709.0  Nintendo      E  \n",
       "3          73.0          8       192.0  Nintendo      E  \n",
       "4           NaN        NaN         NaN       NaN    NaN  "
      ]
     },
     "execution_count": 28,
     "metadata": {},
     "output_type": "execute_result"
    }
   ],
   "source": [
    "df.sort_values(by='Global_Sales', ascending=False).iloc[:5, :]"
   ]
  },
  {
   "cell_type": "markdown",
   "id": "b40d8df1-f02f-4d71-a14c-1d87105aab40",
   "metadata": {},
   "source": [
    "__2-__ Calcule as vendas totais na América do Norte (NA_Sales)"
   ]
  },
  {
   "cell_type": "code",
   "execution_count": 29,
   "id": "95aae318-19fa-41b8-828e-42b0777aae50",
   "metadata": {},
   "outputs": [
    {
     "data": {
      "text/plain": [
       "4402.620000000001"
      ]
     },
     "execution_count": 29,
     "metadata": {},
     "output_type": "execute_result"
    }
   ],
   "source": [
    "df['NA_Sales'].sum()"
   ]
  },
  {
   "cell_type": "markdown",
   "id": "6b72e423-7665-4717-b4aa-17fd7040b68f",
   "metadata": {},
   "source": [
    "__3-__ Encontre o jogo mais vendido no Japão (JP_Sales)."
   ]
  },
  {
   "cell_type": "code",
   "execution_count": 30,
   "id": "54a41819-6515-48d0-929c-c1cb248e9af4",
   "metadata": {},
   "outputs": [
    {
     "data": {
      "text/html": [
       "<div>\n",
       "<style scoped>\n",
       "    .dataframe tbody tr th:only-of-type {\n",
       "        vertical-align: middle;\n",
       "    }\n",
       "\n",
       "    .dataframe tbody tr th {\n",
       "        vertical-align: top;\n",
       "    }\n",
       "\n",
       "    .dataframe thead th {\n",
       "        text-align: right;\n",
       "    }\n",
       "</style>\n",
       "<table border=\"1\" class=\"dataframe\">\n",
       "  <thead>\n",
       "    <tr style=\"text-align: right;\">\n",
       "      <th></th>\n",
       "      <th>Name</th>\n",
       "      <th>Platform</th>\n",
       "      <th>Year_of_Release</th>\n",
       "      <th>Genre</th>\n",
       "      <th>Publisher</th>\n",
       "      <th>NA_Sales</th>\n",
       "      <th>EU_Sales</th>\n",
       "      <th>JP_Sales</th>\n",
       "      <th>Other_Sales</th>\n",
       "      <th>Global_Sales</th>\n",
       "      <th>Critic_Score</th>\n",
       "      <th>Critic_Count</th>\n",
       "      <th>User_Score</th>\n",
       "      <th>User_Count</th>\n",
       "      <th>Developer</th>\n",
       "      <th>Rating</th>\n",
       "    </tr>\n",
       "  </thead>\n",
       "  <tbody>\n",
       "    <tr>\n",
       "      <th>4</th>\n",
       "      <td>Pokemon Red/Pokemon Blue</td>\n",
       "      <td>GB</td>\n",
       "      <td>1996.0</td>\n",
       "      <td>Role-Playing</td>\n",
       "      <td>Nintendo</td>\n",
       "      <td>11.27</td>\n",
       "      <td>8.89</td>\n",
       "      <td>10.22</td>\n",
       "      <td>1.0</td>\n",
       "      <td>31.37</td>\n",
       "      <td>NaN</td>\n",
       "      <td>NaN</td>\n",
       "      <td>NaN</td>\n",
       "      <td>NaN</td>\n",
       "      <td>NaN</td>\n",
       "      <td>NaN</td>\n",
       "    </tr>\n",
       "  </tbody>\n",
       "</table>\n",
       "</div>"
      ],
      "text/plain": [
       "                       Name Platform  Year_of_Release         Genre Publisher  \\\n",
       "4  Pokemon Red/Pokemon Blue       GB           1996.0  Role-Playing  Nintendo   \n",
       "\n",
       "   NA_Sales  EU_Sales  JP_Sales  Other_Sales  Global_Sales  Critic_Score  \\\n",
       "4     11.27      8.89     10.22          1.0         31.37           NaN   \n",
       "\n",
       "   Critic_Count User_Score  User_Count Developer Rating  \n",
       "4           NaN        NaN         NaN       NaN    NaN  "
      ]
     },
     "execution_count": 30,
     "metadata": {},
     "output_type": "execute_result"
    }
   ],
   "source": [
    "df[df['JP_Sales'] == df['JP_Sales'].max()]"
   ]
  },
  {
   "cell_type": "markdown",
   "id": "ec068f70-a384-4917-959a-b38022367110",
   "metadata": {},
   "source": [
    "__4-__ Determine a média de pontuação dos críticos (Critic_Score) para os jogos da Nintendo."
   ]
  },
  {
   "cell_type": "code",
   "execution_count": 31,
   "id": "aabb1a89-6ef1-4c19-bd5e-8be6ba75e3da",
   "metadata": {},
   "outputs": [
    {
     "data": {
      "text/plain": [
       "75.52580645161291"
      ]
     },
     "execution_count": 31,
     "metadata": {},
     "output_type": "execute_result"
    }
   ],
   "source": [
    "df[df['Publisher'] == 'Nintendo']['Critic_Score'].mean()"
   ]
  }
 ],
 "metadata": {
  "kernelspec": {
   "display_name": "venv310",
   "language": "python",
   "name": "venv310"
  },
  "language_info": {
   "codemirror_mode": {
    "name": "ipython",
    "version": 3
   },
   "file_extension": ".py",
   "mimetype": "text/x-python",
   "name": "python",
   "nbconvert_exporter": "python",
   "pygments_lexer": "ipython3",
   "version": "3.10.13"
  }
 },
 "nbformat": 4,
 "nbformat_minor": 5
}
